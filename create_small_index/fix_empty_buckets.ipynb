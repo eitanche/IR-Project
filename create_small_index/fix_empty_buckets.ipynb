{
 "cells": [
  {
   "cell_type": "code",
   "execution_count": null,
   "metadata": {
    "collapsed": true
   },
   "outputs": [],
   "source": []
  },
  {
   "cell_type": "code",
   "execution_count": null,
   "outputs": [],
   "source": [
    "def is_it_in(x):\n",
    "    return x[0]==\"trend\"\n",
    "    #return (x[0] in [\"dim\",\"flavour\",\"flavor\",\"vanilla\",\"eiffel\",\"michelin\",\"nippl\",\"pasta\"])\n",
    "\n",
    "p = postings_filtered.filter(lambda x: is_it_in(x))\n",
    "\n",
    "p.take(1)[0]"
   ],
   "metadata": {
    "collapsed": false,
    "pycharm": {
     "name": "#%%\n"
    }
   }
  },
  {
   "cell_type": "code",
   "execution_count": null,
   "outputs": [],
   "source": [
    "import struct\n",
    "\n",
    "def fix_file(pl, offset, blob_number):\n",
    "    bucket = client.bucket(bucket_name)\n",
    "    blob = bucket.blob(f\"postings_small_anchor_text_gcp_2/{blob_number}_000.bin\")\n",
    "    if offset==0:\n",
    "        with blob.open(\"wb\") as f:\n",
    "            b = b''.join([struct.pack(\"IIII\", doc_id, tf, max_tf, doc_len) for doc_id, tf, max_tf, doc_len in pl])\n",
    "            f.write(b)\n",
    "    else:\n",
    "        with blob.open(\"rb\") as f:\n",
    "            old_bytes = f.read(offset)\n",
    "        with blob.open(\"wb\") as f:\n",
    "            b = b''.join([struct.pack(\"IIII\", doc_id, tf, max_tf, doc_len) for doc_id, tf, max_tf, doc_len in pl])\n",
    "            b= old_bytes+b\n",
    "            f.write(b)\n",
    "\n",
    "all_words_pls = p.take(1)\n",
    "for word, pl in all_words_pls:\n",
    "#     pl = p.take(1)[0][1]\n",
    "    b_id = token2bucket_id(word)\n",
    "    offset = inverted.posting_locs[word][0][1]\n",
    "\n",
    "    print(word)\n",
    "    print(b_id)\n",
    "    print(offset)\n",
    "    fix_file(pl, offset, b_id)\n",
    "\n",
    "\n"
   ],
   "metadata": {
    "collapsed": false,
    "pycharm": {
     "name": "#%%\n"
    }
   }
  },
  {
   "cell_type": "code",
   "execution_count": null,
   "outputs": [],
   "source": [
    "lst = [\"dim\",\"flavour\",\"flavor\",\"vanilla\",\"eiffel\",\"michelin\",\"nippl\",\"pasta\"]\n",
    "\n",
    "for word in lst:\n",
    "    print(f\"{word} : {inverted.posting_locs[word]}\")"
   ],
   "metadata": {
    "collapsed": false,
    "pycharm": {
     "name": "#%%\n"
    }
   }
  }
 ],
 "metadata": {
  "kernelspec": {
   "display_name": "Python 3",
   "language": "python",
   "name": "python3"
  },
  "language_info": {
   "codemirror_mode": {
    "name": "ipython",
    "version": 2
   },
   "file_extension": ".py",
   "mimetype": "text/x-python",
   "name": "python",
   "nbconvert_exporter": "python",
   "pygments_lexer": "ipython2",
   "version": "2.7.6"
  }
 },
 "nbformat": 4,
 "nbformat_minor": 0
}
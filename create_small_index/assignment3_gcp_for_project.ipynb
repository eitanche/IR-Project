{
 "cells": [
  {
   "cell_type": "markdown",
   "id": "ebb51f5b",
   "metadata": {
    "id": "ebb51f5b"
   },
   "source": [
    "***Important*** DO NOT CLEAR THE OUTPUT OF THIS NOTEBOOK AFTER EXECUTION!!!"
   ]
  },
  {
   "cell_type": "code",
   "execution_count": 1,
   "id": "2928b563",
   "metadata": {
    "id": "2928b563",
    "nbgrader": {
     "grade": false,
     "grade_id": "cell-Worker_Count",
     "locked": true,
     "schema_version": 3,
     "solution": false,
     "task": false
    },
    "outputId": "cf88b954-f39a-412a-d87e-660833e735b6"
   },
   "outputs": [
    {
     "name": "stdout",
     "output_type": "stream",
     "text": [
      "NAME          PLATFORM  WORKER_COUNT  PREEMPTIBLE_WORKER_COUNT  STATUS   ZONE           SCHEDULED_DELETE\r\n",
      "cluster-051b  GCE       4                                       RUNNING  us-central1-a\r\n"
     ]
    }
   ],
   "source": [
    "# if the following command generates an error, you probably didn't enable \n",
    "# the cluster security option \"Allow API access to all Google Cloud services\"\n",
    "# under Manage Security → Project Access when setting up the cluster\n",
    "!gcloud dataproc clusters list --region us-central1"
   ]
  },
  {
   "cell_type": "markdown",
   "id": "0ef747b7",
   "metadata": {
    "id": "0ef747b7"
   },
   "source": [
    "# Imports & Setup"
   ]
  },
  {
   "cell_type": "code",
   "execution_count": 2,
   "id": "f5f40290",
   "metadata": {
    "id": "f5f40290",
    "nbgrader": {
     "grade": false,
     "grade_id": "cell-Setup",
     "locked": true,
     "schema_version": 3,
     "solution": false,
     "task": false
    },
    "outputId": "fc0e315d-21e9-411d-d69c-5b97e4e5d629"
   },
   "outputs": [
    {
     "name": "stdout",
     "output_type": "stream",
     "text": [
      "\u001b[33mWARNING: Running pip as the 'root' user can result in broken permissions and conflicting behaviour with the system package manager. It is recommended to use a virtual environment instead: https://pip.pypa.io/warnings/venv\u001b[0m\n",
      "\u001b[33mWARNING: Running pip as the 'root' user can result in broken permissions and conflicting behaviour with the system package manager. It is recommended to use a virtual environment instead: https://pip.pypa.io/warnings/venv\u001b[0m\n"
     ]
    }
   ],
   "source": [
    "!pip install -q google-cloud-storage==1.43.0\n",
    "!pip install -q graphframes"
   ]
  },
  {
   "cell_type": "code",
   "execution_count": 3,
   "id": "33e62384",
   "metadata": {
    "id": "33e62384",
    "nbgrader": {
     "grade": false,
     "grade_id": "cell-Imports",
     "locked": true,
     "schema_version": 3,
     "solution": false,
     "task": false
    },
    "outputId": "a24aa24b-aa75-4823-83ca-1d7deef0f0de"
   },
   "outputs": [
    {
     "name": "stderr",
     "output_type": "stream",
     "text": [
      "[nltk_data] Downloading package stopwords to /root/nltk_data...\n",
      "[nltk_data]   Package stopwords is already up-to-date!\n"
     ]
    },
    {
     "data": {
      "text/plain": [
       "True"
      ]
     },
     "execution_count": 3,
     "metadata": {},
     "output_type": "execute_result"
    }
   ],
   "source": [
    "import pyspark\n",
    "import sys\n",
    "from collections import Counter, OrderedDict, defaultdict\n",
    "import itertools\n",
    "from itertools import islice, count, groupby\n",
    "import pandas as pd\n",
    "import os\n",
    "import re\n",
    "from operator import itemgetter\n",
    "import nltk\n",
    "from nltk.stem.porter import *\n",
    "from nltk.corpus import stopwords\n",
    "from time import time\n",
    "from pathlib import Path\n",
    "import pickle\n",
    "import pandas as pd\n",
    "from google.cloud import storage\n",
    "import struct\n",
    "import hashlib\n",
    "def _hash(s):\n",
    "    return hashlib.blake2b(bytes(s, encoding='utf8'), digest_size=5).hexdigest()\n",
    "\n",
    "nltk.download('stopwords')"
   ]
  },
  {
   "cell_type": "code",
   "execution_count": 4,
   "id": "f995c092",
   "metadata": {
    "id": "f995c092",
    "nbgrader": {
     "grade": false,
     "grade_id": "cell-jar",
     "locked": true,
     "schema_version": 3,
     "solution": false,
     "task": false
    },
    "outputId": "8f93a7ec-71e0-49c1-fc81-9af385849a90"
   },
   "outputs": [
    {
     "name": "stdout",
     "output_type": "stream",
     "text": [
      "-rw-r--r-- 1 root root 247882 Jan  5 10:41 /usr/lib/spark/jars/graphframes-0.8.2-spark3.1-s_2.12.jar\r\n"
     ]
    }
   ],
   "source": [
    "# if nothing prints here you forgot to include the initialization script when starting the cluster\n",
    "!ls -l /usr/lib/spark/jars/graph*"
   ]
  },
  {
   "cell_type": "code",
   "execution_count": 5,
   "id": "6a9e577c",
   "metadata": {
    "id": "6a9e577c",
    "nbgrader": {
     "grade": false,
     "grade_id": "cell-pyspark-import",
     "locked": true,
     "schema_version": 3,
     "solution": false,
     "task": false
    }
   },
   "outputs": [],
   "source": [
    "from pyspark.sql import *\n",
    "from pyspark.sql.functions import *\n",
    "from pyspark import SparkContext, SparkConf, SparkFiles\n",
    "from pyspark.sql import SQLContext\n",
    "from graphframes import *"
   ]
  },
  {
   "cell_type": "code",
   "execution_count": 6,
   "id": "ca9e67ce",
   "metadata": {
    "id": "ca9e67ce",
    "nbgrader": {
     "grade": false,
     "grade_id": "cell-spark-version",
     "locked": true,
     "schema_version": 3,
     "solution": false,
     "task": false
    },
    "outputId": "07b4e22b-a252-42fb-fe46-d9050e4e7ca8",
    "scrolled": true
   },
   "outputs": [
    {
     "data": {
      "text/html": [
       "\n",
       "            <div>\n",
       "                <p><b>SparkSession - hive</b></p>\n",
       "                \n",
       "        <div>\n",
       "            <p><b>SparkContext</b></p>\n",
       "\n",
       "            <p><a href=\"http://cluster-051b-m.us-central1-a.c.buildingbiginvertedindex.internal:44371\">Spark UI</a></p>\n",
       "\n",
       "            <dl>\n",
       "              <dt>Version</dt>\n",
       "                <dd><code>v3.1.2</code></dd>\n",
       "              <dt>Master</dt>\n",
       "                <dd><code>yarn</code></dd>\n",
       "              <dt>AppName</dt>\n",
       "                <dd><code>PySparkShell</code></dd>\n",
       "            </dl>\n",
       "        </div>\n",
       "        \n",
       "            </div>\n",
       "        "
      ],
      "text/plain": [
       "<pyspark.sql.session.SparkSession at 0x7ff009f7b4f0>"
      ]
     },
     "execution_count": 6,
     "metadata": {},
     "output_type": "execute_result"
    }
   ],
   "source": [
    "spark"
   ]
  },
  {
   "cell_type": "code",
   "execution_count": 7,
   "id": "57b8fc90",
   "metadata": {
    "id": "57b8fc90",
    "nbgrader": {
     "grade": false,
     "grade_id": "cell-bucket_name",
     "locked": false,
     "schema_version": 3,
     "solution": true,
     "task": false
    },
    "outputId": "85194d31-b099-49dc-96e9-02932d891403"
   },
   "outputs": [
    {
     "name": "stdout",
     "output_type": "stream",
     "text": [
      "graphframes.sh\n",
      "postings_small_anchor_text_gcp/0_000.bin\n",
      "postings_small_anchor_text_gcp/0_posting_locs.pickle\n",
      "postings_small_anchor_text_gcp/102_000.bin\n",
      "postings_small_anchor_text_gcp/102_posting_locs.pickle\n",
      "postings_small_anchor_text_gcp/103_000.bin\n",
      "postings_small_anchor_text_gcp/103_posting_locs.pickle\n",
      "postings_small_anchor_text_gcp/105_000.bin\n",
      "postings_small_anchor_text_gcp/105_posting_locs.pickle\n",
      "postings_small_anchor_text_gcp/106_000.bin\n",
      "postings_small_anchor_text_gcp/106_posting_locs.pickle\n",
      "postings_small_anchor_text_gcp/107_000.bin\n",
      "postings_small_anchor_text_gcp/107_posting_locs.pickle\n",
      "postings_small_anchor_text_gcp/108_000.bin\n",
      "postings_small_anchor_text_gcp/108_posting_locs.pickle\n",
      "postings_small_anchor_text_gcp/109_000.bin\n",
      "postings_small_anchor_text_gcp/109_posting_locs.pickle\n",
      "postings_small_anchor_text_gcp/113_000.bin\n",
      "postings_small_anchor_text_gcp/113_posting_locs.pickle\n",
      "postings_small_anchor_text_gcp/119_000.bin\n",
      "postings_small_anchor_text_gcp/119_posting_locs.pickle\n",
      "postings_small_anchor_text_gcp/120_000.bin\n",
      "postings_small_anchor_text_gcp/120_posting_locs.pickle\n",
      "postings_small_anchor_text_gcp/123_000.bin\n",
      "postings_small_anchor_text_gcp/123_posting_locs.pickle\n",
      "postings_small_anchor_text_gcp/12_000.bin\n",
      "postings_small_anchor_text_gcp/12_posting_locs.pickle\n",
      "postings_small_anchor_text_gcp/16_000.bin\n",
      "postings_small_anchor_text_gcp/16_posting_locs.pickle\n",
      "postings_small_anchor_text_gcp/26_000.bin\n",
      "postings_small_anchor_text_gcp/26_posting_locs.pickle\n",
      "postings_small_anchor_text_gcp/27_000.bin\n",
      "postings_small_anchor_text_gcp/27_posting_locs.pickle\n",
      "postings_small_anchor_text_gcp/28_000.bin\n",
      "postings_small_anchor_text_gcp/28_posting_locs.pickle\n",
      "postings_small_anchor_text_gcp/29_000.bin\n",
      "postings_small_anchor_text_gcp/29_posting_locs.pickle\n",
      "postings_small_anchor_text_gcp/32_000.bin\n",
      "postings_small_anchor_text_gcp/32_posting_locs.pickle\n",
      "postings_small_anchor_text_gcp/34_000.bin\n",
      "postings_small_anchor_text_gcp/34_posting_locs.pickle\n",
      "postings_small_anchor_text_gcp/35_000.bin\n",
      "postings_small_anchor_text_gcp/35_posting_locs.pickle\n",
      "postings_small_anchor_text_gcp/36_000.bin\n",
      "postings_small_anchor_text_gcp/36_posting_locs.pickle\n",
      "postings_small_anchor_text_gcp/39_000.bin\n",
      "postings_small_anchor_text_gcp/39_posting_locs.pickle\n",
      "postings_small_anchor_text_gcp/40_000.bin\n",
      "postings_small_anchor_text_gcp/40_posting_locs.pickle\n",
      "postings_small_anchor_text_gcp/41_000.bin\n",
      "postings_small_anchor_text_gcp/41_posting_locs.pickle\n",
      "postings_small_anchor_text_gcp/42_000.bin\n",
      "postings_small_anchor_text_gcp/42_posting_locs.pickle\n",
      "postings_small_anchor_text_gcp/4_000.bin\n",
      "postings_small_anchor_text_gcp/4_posting_locs.pickle\n",
      "postings_small_anchor_text_gcp/50_000.bin\n",
      "postings_small_anchor_text_gcp/50_posting_locs.pickle\n",
      "postings_small_anchor_text_gcp/51_000.bin\n",
      "postings_small_anchor_text_gcp/51_posting_locs.pickle\n",
      "postings_small_anchor_text_gcp/54_000.bin\n",
      "postings_small_anchor_text_gcp/54_posting_locs.pickle\n",
      "postings_small_anchor_text_gcp/55_000.bin\n",
      "postings_small_anchor_text_gcp/55_posting_locs.pickle\n",
      "postings_small_anchor_text_gcp/59_000.bin\n",
      "postings_small_anchor_text_gcp/59_posting_locs.pickle\n",
      "postings_small_anchor_text_gcp/62_000.bin\n",
      "postings_small_anchor_text_gcp/62_posting_locs.pickle\n",
      "postings_small_anchor_text_gcp/64_000.bin\n",
      "postings_small_anchor_text_gcp/64_posting_locs.pickle\n",
      "postings_small_anchor_text_gcp/67_000.bin\n",
      "postings_small_anchor_text_gcp/67_posting_locs.pickle\n",
      "postings_small_anchor_text_gcp/68_000.bin\n",
      "postings_small_anchor_text_gcp/68_posting_locs.pickle\n",
      "postings_small_anchor_text_gcp/71_000.bin\n",
      "postings_small_anchor_text_gcp/71_posting_locs.pickle\n",
      "postings_small_anchor_text_gcp/73_000.bin\n",
      "postings_small_anchor_text_gcp/73_posting_locs.pickle\n",
      "postings_small_anchor_text_gcp/74_000.bin\n",
      "postings_small_anchor_text_gcp/74_posting_locs.pickle\n",
      "postings_small_anchor_text_gcp/79_000.bin\n",
      "postings_small_anchor_text_gcp/79_posting_locs.pickle\n",
      "postings_small_anchor_text_gcp/82_000.bin\n",
      "postings_small_anchor_text_gcp/82_posting_locs.pickle\n",
      "postings_small_anchor_text_gcp/85_000.bin\n",
      "postings_small_anchor_text_gcp/85_posting_locs.pickle\n",
      "postings_small_anchor_text_gcp/87_000.bin\n",
      "postings_small_anchor_text_gcp/87_001.bin\n",
      "postings_small_anchor_text_gcp/87_posting_locs.pickle\n",
      "postings_small_anchor_text_gcp/89_000.bin\n",
      "postings_small_anchor_text_gcp/89_posting_locs.pickle\n",
      "postings_small_anchor_text_gcp/8_000.bin\n",
      "postings_small_anchor_text_gcp/8_posting_locs.pickle\n",
      "postings_small_anchor_text_gcp/97_000.bin\n",
      "postings_small_anchor_text_gcp/97_posting_locs.pickle\n",
      "postings_small_anchor_text_gcp/index.pkl\n",
      "postings_small_body_gcp/0_000.bin\n",
      "postings_small_body_gcp/0_posting_locs.pickle\n",
      "postings_small_body_gcp/102_000.bin\n",
      "postings_small_body_gcp/102_001.bin\n",
      "postings_small_body_gcp/102_posting_locs.pickle\n",
      "postings_small_body_gcp/103_000.bin\n",
      "postings_small_body_gcp/103_posting_locs.pickle\n",
      "postings_small_body_gcp/105_000.bin\n",
      "postings_small_body_gcp/105_posting_locs.pickle\n",
      "postings_small_body_gcp/106_000.bin\n",
      "postings_small_body_gcp/106_posting_locs.pickle\n",
      "postings_small_body_gcp/107_000.bin\n",
      "postings_small_body_gcp/107_posting_locs.pickle\n",
      "postings_small_body_gcp/108_000.bin\n",
      "postings_small_body_gcp/108_001.bin\n",
      "postings_small_body_gcp/108_002.bin\n",
      "postings_small_body_gcp/108_003.bin\n",
      "postings_small_body_gcp/108_posting_locs.pickle\n",
      "postings_small_body_gcp/109_000.bin\n",
      "postings_small_body_gcp/109_001.bin\n",
      "postings_small_body_gcp/109_002.bin\n",
      "postings_small_body_gcp/109_003.bin\n",
      "postings_small_body_gcp/109_posting_locs.pickle\n",
      "postings_small_body_gcp/113_000.bin\n",
      "postings_small_body_gcp/113_001.bin\n",
      "postings_small_body_gcp/113_002.bin\n",
      "postings_small_body_gcp/113_posting_locs.pickle\n",
      "postings_small_body_gcp/119_000.bin\n",
      "postings_small_body_gcp/119_001.bin\n",
      "postings_small_body_gcp/119_002.bin\n",
      "postings_small_body_gcp/119_posting_locs.pickle\n",
      "postings_small_body_gcp/120_000.bin\n",
      "postings_small_body_gcp/120_posting_locs.pickle\n",
      "postings_small_body_gcp/123_000.bin\n",
      "postings_small_body_gcp/123_001.bin\n",
      "postings_small_body_gcp/123_002.bin\n",
      "postings_small_body_gcp/123_003.bin\n",
      "postings_small_body_gcp/123_posting_locs.pickle\n",
      "postings_small_body_gcp/12_000.bin\n",
      "postings_small_body_gcp/12_001.bin\n",
      "postings_small_body_gcp/12_002.bin\n",
      "postings_small_body_gcp/12_003.bin\n",
      "postings_small_body_gcp/12_004.bin\n",
      "postings_small_body_gcp/12_005.bin\n",
      "postings_small_body_gcp/12_006.bin\n",
      "postings_small_body_gcp/12_007.bin\n",
      "postings_small_body_gcp/12_008.bin\n",
      "postings_small_body_gcp/12_009.bin\n",
      "postings_small_body_gcp/12_010.bin\n",
      "postings_small_body_gcp/12_011.bin\n",
      "postings_small_body_gcp/12_posting_locs.pickle\n",
      "postings_small_body_gcp/16_000.bin\n",
      "postings_small_body_gcp/16_posting_locs.pickle\n",
      "postings_small_body_gcp/26_000.bin\n",
      "postings_small_body_gcp/26_001.bin\n",
      "postings_small_body_gcp/26_posting_locs.pickle\n",
      "postings_small_body_gcp/27_000.bin\n",
      "postings_small_body_gcp/27_posting_locs.pickle\n",
      "postings_small_body_gcp/28_000.bin\n",
      "postings_small_body_gcp/28_001.bin\n",
      "postings_small_body_gcp/28_002.bin\n",
      "postings_small_body_gcp/28_003.bin\n",
      "postings_small_body_gcp/28_posting_locs.pickle\n",
      "postings_small_body_gcp/29_000.bin\n",
      "postings_small_body_gcp/29_posting_locs.pickle\n",
      "postings_small_body_gcp/32_000.bin\n",
      "postings_small_body_gcp/32_posting_locs.pickle\n",
      "postings_small_body_gcp/34_000.bin\n",
      "postings_small_body_gcp/34_001.bin\n",
      "postings_small_body_gcp/34_posting_locs.pickle\n",
      "postings_small_body_gcp/35_000.bin\n",
      "postings_small_body_gcp/35_001.bin\n",
      "postings_small_body_gcp/35_002.bin\n",
      "postings_small_body_gcp/35_003.bin\n",
      "postings_small_body_gcp/35_004.bin\n",
      "postings_small_body_gcp/35_005.bin\n",
      "postings_small_body_gcp/35_posting_locs.pickle\n",
      "postings_small_body_gcp/36_000.bin\n",
      "postings_small_body_gcp/36_posting_locs.pickle\n",
      "postings_small_body_gcp/39_000.bin\n",
      "postings_small_body_gcp/39_001.bin\n",
      "postings_small_body_gcp/39_002.bin\n",
      "postings_small_body_gcp/39_posting_locs.pickle\n",
      "postings_small_body_gcp/3_000.bin\n",
      "postings_small_body_gcp/3_posting_locs.pickle\n",
      "postings_small_body_gcp/40_000.bin\n",
      "postings_small_body_gcp/40_001.bin\n",
      "postings_small_body_gcp/40_posting_locs.pickle\n",
      "postings_small_body_gcp/41_000.bin\n",
      "postings_small_body_gcp/41_posting_locs.pickle\n",
      "postings_small_body_gcp/42_000.bin\n",
      "postings_small_body_gcp/42_001.bin\n",
      "postings_small_body_gcp/42_002.bin\n",
      "postings_small_body_gcp/42_posting_locs.pickle\n",
      "postings_small_body_gcp/4_000.bin\n",
      "postings_small_body_gcp/4_001.bin\n",
      "postings_small_body_gcp/4_posting_locs.pickle\n",
      "postings_small_body_gcp/50_000.bin\n",
      "postings_small_body_gcp/50_posting_locs.pickle\n",
      "postings_small_body_gcp/51_000.bin\n",
      "postings_small_body_gcp/51_001.bin\n",
      "postings_small_body_gcp/51_002.bin\n",
      "postings_small_body_gcp/51_003.bin\n",
      "postings_small_body_gcp/51_004.bin\n",
      "postings_small_body_gcp/51_005.bin\n",
      "postings_small_body_gcp/51_006.bin\n",
      "postings_small_body_gcp/51_posting_locs.pickle\n",
      "postings_small_body_gcp/54_000.bin\n",
      "postings_small_body_gcp/54_posting_locs.pickle\n",
      "postings_small_body_gcp/55_000.bin\n",
      "postings_small_body_gcp/55_001.bin\n",
      "postings_small_body_gcp/55_002.bin\n",
      "postings_small_body_gcp/55_003.bin\n",
      "postings_small_body_gcp/55_posting_locs.pickle\n",
      "postings_small_body_gcp/59_000.bin\n",
      "postings_small_body_gcp/59_001.bin\n",
      "postings_small_body_gcp/59_posting_locs.pickle\n",
      "postings_small_body_gcp/62_000.bin\n",
      "postings_small_body_gcp/62_001.bin\n",
      "postings_small_body_gcp/62_002.bin\n",
      "postings_small_body_gcp/62_003.bin\n",
      "postings_small_body_gcp/62_004.bin\n",
      "postings_small_body_gcp/62_005.bin\n",
      "postings_small_body_gcp/62_006.bin\n",
      "postings_small_body_gcp/62_007.bin\n",
      "postings_small_body_gcp/62_008.bin\n",
      "postings_small_body_gcp/62_009.bin\n",
      "postings_small_body_gcp/62_posting_locs.pickle\n",
      "postings_small_body_gcp/64_000.bin\n",
      "postings_small_body_gcp/64_posting_locs.pickle\n",
      "postings_small_body_gcp/67_000.bin\n",
      "postings_small_body_gcp/67_posting_locs.pickle\n",
      "postings_small_body_gcp/68_000.bin\n",
      "postings_small_body_gcp/68_posting_locs.pickle\n",
      "postings_small_body_gcp/71_000.bin\n",
      "postings_small_body_gcp/71_posting_locs.pickle\n",
      "postings_small_body_gcp/73_000.bin\n",
      "postings_small_body_gcp/73_001.bin\n",
      "postings_small_body_gcp/73_posting_locs.pickle\n",
      "postings_small_body_gcp/74_000.bin\n",
      "postings_small_body_gcp/74_001.bin\n",
      "postings_small_body_gcp/74_002.bin\n",
      "postings_small_body_gcp/74_posting_locs.pickle\n",
      "postings_small_body_gcp/79_000.bin\n",
      "postings_small_body_gcp/79_posting_locs.pickle\n",
      "postings_small_body_gcp/82_000.bin\n",
      "postings_small_body_gcp/82_001.bin\n",
      "postings_small_body_gcp/82_posting_locs.pickle\n",
      "postings_small_body_gcp/85_000.bin\n",
      "postings_small_body_gcp/85_001.bin\n",
      "postings_small_body_gcp/85_posting_locs.pickle\n",
      "postings_small_body_gcp/87_000.bin\n",
      "postings_small_body_gcp/87_001.bin\n",
      "postings_small_body_gcp/87_002.bin\n",
      "postings_small_body_gcp/87_003.bin\n",
      "postings_small_body_gcp/87_004.bin\n",
      "postings_small_body_gcp/87_005.bin\n",
      "postings_small_body_gcp/87_posting_locs.pickle\n",
      "postings_small_body_gcp/89_000.bin\n",
      "postings_small_body_gcp/89_posting_locs.pickle\n",
      "postings_small_body_gcp/8_000.bin\n",
      "postings_small_body_gcp/8_001.bin\n",
      "postings_small_body_gcp/8_002.bin\n",
      "postings_small_body_gcp/8_003.bin\n",
      "postings_small_body_gcp/8_004.bin\n",
      "postings_small_body_gcp/8_posting_locs.pickle\n",
      "postings_small_body_gcp/97_000.bin\n",
      "postings_small_body_gcp/97_posting_locs.pickle\n",
      "postings_small_body_gcp/index.pkl\n",
      "postings_small_title_gcp/0_000.bin\n",
      "postings_small_title_gcp/0_posting_locs.pickle\n",
      "postings_small_title_gcp/102_000.bin\n",
      "postings_small_title_gcp/102_posting_locs.pickle\n",
      "postings_small_title_gcp/103_000.bin\n",
      "postings_small_title_gcp/103_posting_locs.pickle\n",
      "postings_small_title_gcp/105_000.bin\n",
      "postings_small_title_gcp/105_posting_locs.pickle\n",
      "postings_small_title_gcp/106_000.bin\n",
      "postings_small_title_gcp/106_posting_locs.pickle\n",
      "postings_small_title_gcp/107_000.bin\n",
      "postings_small_title_gcp/107_posting_locs.pickle\n",
      "postings_small_title_gcp/108_000.bin\n",
      "postings_small_title_gcp/108_posting_locs.pickle\n",
      "postings_small_title_gcp/109_000.bin\n",
      "postings_small_title_gcp/109_posting_locs.pickle\n",
      "postings_small_title_gcp/113_000.bin\n",
      "postings_small_title_gcp/113_posting_locs.pickle\n",
      "postings_small_title_gcp/119_000.bin\n",
      "postings_small_title_gcp/119_posting_locs.pickle\n",
      "postings_small_title_gcp/120_000.bin\n",
      "postings_small_title_gcp/120_posting_locs.pickle\n",
      "postings_small_title_gcp/123_000.bin\n",
      "postings_small_title_gcp/123_posting_locs.pickle\n",
      "postings_small_title_gcp/12_000.bin\n",
      "postings_small_title_gcp/12_posting_locs.pickle\n",
      "postings_small_title_gcp/16_000.bin\n",
      "postings_small_title_gcp/16_posting_locs.pickle\n",
      "postings_small_title_gcp/26_000.bin\n",
      "postings_small_title_gcp/26_posting_locs.pickle\n",
      "postings_small_title_gcp/27_000.bin\n",
      "postings_small_title_gcp/27_posting_locs.pickle\n",
      "postings_small_title_gcp/28_000.bin\n",
      "postings_small_title_gcp/28_posting_locs.pickle\n",
      "postings_small_title_gcp/29_000.bin\n",
      "postings_small_title_gcp/29_posting_locs.pickle\n",
      "postings_small_title_gcp/32_000.bin\n",
      "postings_small_title_gcp/32_posting_locs.pickle\n",
      "postings_small_title_gcp/34_000.bin\n",
      "postings_small_title_gcp/34_posting_locs.pickle\n",
      "postings_small_title_gcp/35_000.bin\n",
      "postings_small_title_gcp/35_posting_locs.pickle\n",
      "postings_small_title_gcp/36_000.bin\n",
      "postings_small_title_gcp/36_posting_locs.pickle\n",
      "postings_small_title_gcp/39_000.bin\n",
      "postings_small_title_gcp/39_posting_locs.pickle\n",
      "postings_small_title_gcp/40_000.bin\n",
      "postings_small_title_gcp/40_posting_locs.pickle\n",
      "postings_small_title_gcp/41_000.bin\n",
      "postings_small_title_gcp/41_posting_locs.pickle\n",
      "postings_small_title_gcp/42_000.bin\n",
      "postings_small_title_gcp/42_posting_locs.pickle\n",
      "postings_small_title_gcp/4_000.bin\n",
      "postings_small_title_gcp/4_posting_locs.pickle\n",
      "postings_small_title_gcp/50_000.bin\n",
      "postings_small_title_gcp/50_posting_locs.pickle\n",
      "postings_small_title_gcp/51_000.bin\n",
      "postings_small_title_gcp/51_posting_locs.pickle\n",
      "postings_small_title_gcp/54_000.bin\n",
      "postings_small_title_gcp/54_posting_locs.pickle\n",
      "postings_small_title_gcp/55_000.bin\n",
      "postings_small_title_gcp/55_posting_locs.pickle\n",
      "postings_small_title_gcp/59_000.bin\n",
      "postings_small_title_gcp/59_posting_locs.pickle\n",
      "postings_small_title_gcp/62_000.bin\n",
      "postings_small_title_gcp/62_posting_locs.pickle\n",
      "postings_small_title_gcp/64_000.bin\n",
      "postings_small_title_gcp/64_posting_locs.pickle\n",
      "postings_small_title_gcp/68_000.bin\n",
      "postings_small_title_gcp/68_posting_locs.pickle\n",
      "postings_small_title_gcp/73_000.bin\n",
      "postings_small_title_gcp/73_posting_locs.pickle\n",
      "postings_small_title_gcp/74_000.bin\n",
      "postings_small_title_gcp/74_posting_locs.pickle\n",
      "postings_small_title_gcp/79_000.bin\n",
      "postings_small_title_gcp/79_posting_locs.pickle\n",
      "postings_small_title_gcp/82_000.bin\n",
      "postings_small_title_gcp/82_posting_locs.pickle\n",
      "postings_small_title_gcp/85_000.bin\n",
      "postings_small_title_gcp/85_posting_locs.pickle\n",
      "postings_small_title_gcp/87_000.bin\n",
      "postings_small_title_gcp/87_posting_locs.pickle\n",
      "postings_small_title_gcp/89_000.bin\n",
      "postings_small_title_gcp/89_posting_locs.pickle\n",
      "postings_small_title_gcp/8_000.bin\n",
      "postings_small_title_gcp/8_posting_locs.pickle\n",
      "postings_small_title_gcp/97_000.bin\n",
      "postings_small_title_gcp/97_posting_locs.pickle\n",
      "postings_small_title_gcp/index.pkl\n"
     ]
    }
   ],
   "source": [
    "# Put your bucket name below and make sure you can access it without an error\n",
    "bucket_name = 'idx316179928316366087idx' \n",
    "client = storage.Client()\n",
    "blobs = client.list_blobs(bucket_name)\n",
    "for b in blobs:\n",
    "    print(b.name)"
   ]
  },
  {
   "cell_type": "markdown",
   "id": "8b3843ca",
   "metadata": {
    "id": "8b3843ca"
   },
   "source": [
    "***GCP setup is complete!*** If you got here without any errors you've earned 10 out of the 35 points of this part."
   ]
  },
  {
   "cell_type": "markdown",
   "id": "f7f80686",
   "metadata": {
    "id": "f7f80686"
   },
   "source": [
    "# Building an inverted index"
   ]
  },
  {
   "cell_type": "markdown",
   "id": "e5ae65fc",
   "metadata": {
    "id": "e5ae65fc"
   },
   "source": [
    "Here, we read the entire corpus to an rdd, directly from Google Storage Bucket and use your code from Colab to construct an inverted index."
   ]
  },
  {
   "cell_type": "code",
   "execution_count": 8,
   "id": "e8f6467b",
   "metadata": {
    "id": "e8f6467b",
    "outputId": "aa4eac05-d1d9-4415-a033-32ea28b09b8c",
    "scrolled": false
   },
   "outputs": [],
   "source": [
    "# full_path = \"gs://wikidata_preprocessed/*\"\n",
    "# parquetFile = spark.read.parquet(full_path)\n",
    "# doc_text_pairs = parquetFile.select(\"anchor\", \"id\").rdd"
   ]
  },
  {
   "cell_type": "code",
   "execution_count": 9,
   "id": "514b1c56",
   "metadata": {},
   "outputs": [
    {
     "name": "stderr",
     "output_type": "stream",
     "text": [
      "                                                                                \r"
     ]
    }
   ],
   "source": [
    "def id_to_anchor_text(id_and_text):\n",
    "  return [(id,text) for id, text in id_and_text]\n",
    "\n",
    "def reduce_anchor_text(list_of_text):\n",
    "  return \" \".join(list_of_text)\n",
    "\n",
    "####################COMMENT OUT WHEN CALCULATING ANCHOR TEXT INDEX ###########################################\n",
    "pages_links = spark.read.parquet(\"gs://wikidata_preprocessed/*\").select(\"id\", \"anchor_text\").rdd\n",
    "x = pages_links.flatMap(lambda x : id_to_anchor_text(x[1]))\n",
    "doc_text_pairs = x.groupByKey().mapValues(reduce_anchor_text).map(lambda x:(x[1],x[0]))\n"
   ]
  },
  {
   "cell_type": "markdown",
   "id": "e4ad9ad6",
   "metadata": {
    "id": "e4ad9ad6"
   },
   "source": [
    "We will count the number of pages to make sure we are looking at the entire corpus. The number of pages should be more than 6M"
   ]
  },
  {
   "cell_type": "code",
   "execution_count": null,
   "id": "7cf64ca7",
   "metadata": {
    "id": "7cf64ca7",
    "outputId": "656ec72b-7e38-4a3f-b43b-ef0c2c2dc261"
   },
   "outputs": [
    {
     "name": "stderr",
     "output_type": "stream",
     "text": [
      "                                                                                \r"
     ]
    },
    {
     "data": {
      "text/plain": [
       "6348910"
      ]
     },
     "execution_count": 9,
     "metadata": {},
     "output_type": "execute_result"
    }
   ],
   "source": [
    "# Count number of wiki pages\n",
    "parquetFile.count()"
   ]
  },
  {
   "cell_type": "markdown",
   "id": "e57354a8",
   "metadata": {
    "id": "e57354a8"
   },
   "source": [
    "Let's import the inverted index module. Note that you need to use the staff-provided version called `inverted_index_gcp.py`, which contains helper functions to writing and reading the posting files similar to the Colab version, but with writing done to a Google Cloud Storage bucket."
   ]
  },
  {
   "cell_type": "code",
   "execution_count": 10,
   "id": "b60a23b2",
   "metadata": {
    "id": "b60a23b2",
    "outputId": "327fe81b-80f4-4b3a-8894-e74720d92e35"
   },
   "outputs": [
    {
     "name": "stdout",
     "output_type": "stream",
     "text": [
      "inverted_index_gcp.py\r\n"
     ]
    }
   ],
   "source": [
    "# if nothing prints here you forgot to upload the file inverted_index_gcp.py to the home dir\n",
    "%cd -q /home/dataproc\n",
    "!ls inverted_index_gcp.py"
   ]
  },
  {
   "cell_type": "code",
   "execution_count": 11,
   "id": "f22786fa",
   "metadata": {
    "id": "f22786fa",
    "scrolled": true
   },
   "outputs": [],
   "source": [
    "# adding our python module to the cluster\n",
    "sc.addFile(\"/home/dataproc/inverted_index_gcp.py\")\n",
    "sys.path.insert(0,SparkFiles.getRootDirectory())"
   ]
  },
  {
   "cell_type": "code",
   "execution_count": 12,
   "id": "6fa813b4",
   "metadata": {
    "id": "6fa813b4"
   },
   "outputs": [],
   "source": [
    "from inverted_index_gcp import InvertedIndex"
   ]
  },
  {
   "cell_type": "code",
   "execution_count": null,
   "metadata": {},
   "outputs": [],
   "source": [
    "INDEX_FOLDER = \"body_two_word_index\""
   ]
  },
  {
   "cell_type": "markdown",
   "id": "e433e681",
   "metadata": {
    "id": "e433e681"
   },
   "source": [
    "**YOUR TASK (10 POINTS)**: Use your implementation of `word_count`, `reduce_word_counts`, `calculate_df`, and `partition_postings_and_write` functions from Colab to build an inverted index for all of English Wikipedia in under 2 hours.\n",
    "\n",
    "A few notes: \n",
    "1. The number of corpus stopwords below is a bit bigger than the colab version since we are working on the whole corpus and not just on one file.\n",
    "2. You need to slightly modify your implementation of  `partition_postings_and_write` because the signature of `InvertedIndex.write_a_posting_list` has changed and now includes an additional argument called `bucket_name` for the target bucket. See the module for more details.\n",
    "3. You are not allowed to change any of the code not coming from Colab. "
   ]
  },
  {
   "cell_type": "code",
   "execution_count": 13,
   "id": "a936538d",
   "metadata": {
    "id": "a936538d",
    "nbgrader": {
     "grade": false,
     "grade_id": "cell-token2bucket",
     "locked": false,
     "schema_version": 3,
     "solution": true,
     "task": false
    }
   },
   "outputs": [],
   "source": [
    "from nltk.stem.porter import *\n",
    "\n",
    "stemmer = PorterStemmer()\n",
    "\n",
    "\n",
    "english_stopwords = frozenset(stopwords.words('english'))\n",
    "corpus_stopwords = [\"category\", \"references\", \"also\", \"external\", \"links\", \n",
    "                    \"may\", \"first\", \"see\", \"history\", \"people\", \"one\", \"two\", \n",
    "                    \"part\", \"thumb\", \"including\", \"second\", \"following\", \n",
    "                    \"many\", \"however\", \"would\", \"became\"]\n",
    "\n",
    "all_stopwords = english_stopwords.union(corpus_stopwords)\n",
    "RE_WORD = re.compile(r\"\"\"[\\#\\@\\w](['\\-]?\\w){2,24}\"\"\", re.UNICODE)\n",
    "\n",
    "query_terms = ['python', 'data', 'scienc', 'migrain', 'chocol', 'how', 'to', 'make', 'pasta', 'doe', 'pasta', 'have', 'preserv', 'how', 'googl', 'work', 'what', 'is', 'inform', 'retriev', 'nba', 'yoga', 'how', 'to', 'not', 'kill', 'plant', 'mask', 'black', 'friday', 'whi', 'do', 'men', 'have', 'nippl', 'rubber', 'duck', 'michelin', 'what', 'to', 'watch', 'best', 'marvel', 'movi', 'how', 'tall', 'is', 'the', 'eiffel', 'tower', 'where', 'doe', 'vanilla', 'flavor', 'come', 'from', 'best', 'ice', 'cream', 'flavour', 'how', 'to', 'tie', 'a', 'tie', 'how', 'to', 'earn', 'money', 'onlin', 'what', 'is', 'critic', 'race', 'theori', 'what', 'space', 'movi', 'wa', 'made', 'in', '1992', 'how', 'to', 'vote', 'googl', 'trend', 'dim', 'sum', 'ted', 'fairi', 'tale']\n",
    "\n",
    "NUM_BUCKETS = 124\n",
    "def token2bucket_id(token):\n",
    "  return int(_hash(token),16) % NUM_BUCKETS\n",
    "\n",
    "# PLACE YOUR CODE HERE\n",
    "def word_count(text, id):\n",
    "  ''' Count the frequency of each word in `text` (tf) that is not included in \n",
    "  `all_stopwords` and return entries that will go into our posting lists. \n",
    "  Parameters:\n",
    "  -----------\n",
    "    text: str\n",
    "      Text of one document\n",
    "    id: int\n",
    "      Document id\n",
    "  Returns:\n",
    "  --------\n",
    "    List of tuples\n",
    "      A list of (token, (doc_id, tf)) pairs \n",
    "      for example: [(\"Anarchism\", (12, 5)), ...]\n",
    "  '''\n",
    "  tokens = [token.group() for token in RE_WORD.finditer(text.lower())]\n",
    "  #ADDED stopwords removal\n",
    "\n",
    "  tokens = [stemmer.stem(token) for token in tokens if token not in all_stopwords]\n",
    "  # YOUR CODE HERE\n",
    "  count = Counter(tokens)\n",
    "  if len(count)==0:\n",
    "      return []\n",
    "  #### ADDED doc_len and max_tf to posting lists\n",
    "  doc_len = len(tokens)\n",
    "  max_tf = count.most_common(1)[0][1]\n",
    "  #return [(word,(id,tf,max_tf, doc_len)) for word,tf in count.items() if word not in all_stopwords]\n",
    "  return [(word,(id,tf,max_tf, doc_len)) for word,tf in count.items() if word not in all_stopwords and word in query_terms]\n",
    "\n",
    "\n",
    "def reduce_word_counts(unsorted_pl):\n",
    "  ''' Returns a sorted posting list by wiki_id.\n",
    "  Parameters:\n",
    "  -----------\n",
    "    unsorted_pl: list of tuples\n",
    "      A list of (wiki_id, tf) tuples \n",
    "  Returns:\n",
    "  --------\n",
    "    list of tuples\n",
    "      A sorted posting list.\n",
    "  '''\n",
    "  # YOUR CODE HERE\n",
    "  return sorted(unsorted_pl, key = lambda x:x[0])\n",
    "\n",
    "\n",
    "def calculate_df(postings):\n",
    "  ''' Takes a posting list RDD and calculate the df for each token.\n",
    "  Parameters:\n",
    "  -----------\n",
    "    postings: RDD\n",
    "      An RDD where each element is a (token, posting_list) pair.\n",
    "  Returns:\n",
    "  --------\n",
    "    RDD\n",
    "      An RDD where each element is a (token, df) pair.\n",
    "  '''\n",
    "  # YOUR CODE HERE\n",
    "  return postings.mapValues(lambda x: len(x))\n",
    "\n",
    "\n",
    "def word_posting2bucket_and_wpl(word, posting_list):\n",
    "  return token2bucket_id(word),(word,posting_list)\n",
    "\n",
    "def write_bucket_to_disk(bucket_id, list_of_words_postings_tuples):\n",
    "  word2posting_locs = InvertedIndex().write_a_posting_list((bucket_id, list_of_words_postings_tuples),bucket_name) \n",
    "  return word2posting_locs\n",
    "\n",
    "#########CALCULATE CORPUS AVERAGE DOCUMENT LENGTH#####################\n",
    "def tokenize_remove_stopwords(text, id):\n",
    "  tokens = [token.group() for token in RE_WORD.finditer(text.lower())]\n",
    "  #ADDED stopwords removal\n",
    "  tokens = [token for token in tokens if token not in all_stopwords]\n",
    "  return id, len(tokens)\n",
    "\n",
    "def partition_postings_and_write(postings):\n",
    "  ''' A function that partitions the posting lists into buckets, writes out \n",
    "  all posting lists in a bucket to disk, and returns the posting locations for \n",
    "  each bucket. Partitioning should be done through the use of `token2bucket` \n",
    "  above. Writing to disk should use the function  `write_a_posting_list`, a \n",
    "  static method implemented in inverted_index_colab.py under the InvertedIndex \n",
    "  class. \n",
    "  Parameters:\n",
    "  -----------\n",
    "    postings: RDD\n",
    "      An RDD where each item is a (w, posting_list) pair.\n",
    "  Returns:\n",
    "  --------\n",
    "    RDD\n",
    "      An RDD where each item is a posting locations dictionary for a bucket. The\n",
    "      posting locations maintain a list for each word of file locations and \n",
    "      offsets its posting list was written to. See `write_a_posting_list` for \n",
    "      more details.\n",
    "  '''\n",
    "  # YOUR CODE HERE\n",
    "  bucket2posting_lists=postings.map(lambda x: word_posting2bucket_and_wpl(x[0],x[1])).groupByKey()#.mapValues().reduce_word_counts)\n",
    "  x= bucket2posting_lists.map(lambda x: write_bucket_to_disk(x[0],x[1]))\n",
    "  return x"
   ]
  },
  {
   "cell_type": "code",
   "execution_count": 14,
   "id": "a7jLu9y5rvFz",
   "metadata": {
    "id": "a7jLu9y5rvFz"
   },
   "outputs": [],
   "source": [
    "# doc_len = doc_text_pairs.map(lambda x:tokenize_remove_stopwords(x[0],x[1]))\n",
    "# AVGDL = doc_len.map(lambda x: x[1]).mean()"
   ]
  },
  {
   "cell_type": "code",
   "execution_count": 15,
   "id": "2fe55ae1",
   "metadata": {
    "id": "2fe55ae1",
    "nbgrader": {
     "grade": false,
     "grade_id": "cell-index_construction",
     "locked": false,
     "schema_version": 3,
     "solution": true,
     "task": false
    },
    "outputId": "381ffb23-7c4f-43fc-dde5-4be0adb7b65d"
   },
   "outputs": [
    {
     "name": "stderr",
     "output_type": "stream",
     "text": [
      "                                                                                \r"
     ]
    }
   ],
   "source": [
    "# time the index creation time\n",
    "t_start = time()\n",
    "# word counts map\n",
    "word_counts = doc_text_pairs.flatMap(lambda x: word_count(x[0], x[1]))\n",
    "postings = word_counts.groupByKey().mapValues(reduce_word_counts)\n",
    "# filtering postings and calculate df\n",
    "postings_filtered = postings.filter(lambda x: len(x[1])>50)\n",
    "w2df = calculate_df(postings_filtered)\n",
    "w2df_dict = w2df.collectAsMap()\n",
    "# partition posting lists and write out\n",
    "_ = partition_postings_and_write(postings_filtered).collect()\n",
    "index_const_time = time() - t_start"
   ]
  },
  {
   "cell_type": "code",
   "execution_count": 31,
   "id": "d776670f",
   "metadata": {},
   "outputs": [
    {
     "name": "stderr",
     "output_type": "stream",
     "text": [
      "                                                                                \r"
     ]
    },
    {
     "data": {
      "text/plain": [
       "('trend',\n",
       " [(9223, 1, 6677, 13033),\n",
       "  (11657, 3, 1394, 3257),\n",
       "  (11720, 1, 254, 826),\n",
       "  (12905, 3, 522, 1399),\n",
       "  (23053, 1, 641, 1731),\n",
       "  (25459, 1, 3405, 9221),\n",
       "  (26094, 2, 1854, 6739),\n",
       "  (26332, 1, 117, 382),\n",
       "  (31829, 1, 41, 184),\n",
       "  (54738, 1, 138, 481),\n",
       "  (59551, 1, 2597, 8071),\n",
       "  (62529, 1, 4873, 17078),\n",
       "  (63082, 66, 176, 653),\n",
       "  (64699, 1, 32, 191),\n",
       "  (67630, 1, 37, 125),\n",
       "  (86350, 1, 50, 63),\n",
       "  (99260, 1, 626, 1834),\n",
       "  (112577, 1, 211, 558),\n",
       "  (118450, 1, 821, 1940),\n",
       "  (145171, 1, 203, 415),\n",
       "  (163152, 1, 192, 896),\n",
       "  (166867, 1, 123, 304),\n",
       "  (167742, 1, 156, 237),\n",
       "  (168918, 1, 323, 1404),\n",
       "  (171323, 8, 71, 246),\n",
       "  (195521, 1, 537, 1355),\n",
       "  (198629, 3, 34, 144),\n",
       "  (207085, 1, 7914, 33115),\n",
       "  (220964, 1, 781, 2327),\n",
       "  (228568, 1, 258, 715),\n",
       "  (327452, 1, 5651, 9225),\n",
       "  (330217, 1, 1392, 5136),\n",
       "  (336776, 36, 36, 94),\n",
       "  (339421, 1, 103, 426),\n",
       "  (374327, 6, 259, 713),\n",
       "  (375540, 1, 715, 1851),\n",
       "  (402982, 6, 333, 1048),\n",
       "  (406624, 1, 434, 1445),\n",
       "  (444068, 1, 49, 152),\n",
       "  (450285, 20, 20, 44),\n",
       "  (477060, 42, 42, 91),\n",
       "  (478270, 1, 297, 745),\n",
       "  (481515, 1, 76, 302),\n",
       "  (521613, 1, 3027, 8091),\n",
       "  (559618, 1, 63, 259),\n",
       "  (570406, 1, 40, 103),\n",
       "  (589065, 5, 77, 316),\n",
       "  (590214, 130, 130, 406),\n",
       "  (591931, 1, 132, 303),\n",
       "  (603407, 1, 77, 255),\n",
       "  (635304, 2, 3, 13),\n",
       "  (699826, 1, 10, 39),\n",
       "  (740451, 14, 14, 63),\n",
       "  (754957, 1, 146, 541),\n",
       "  (798543, 618, 618, 1652),\n",
       "  (880871, 1, 203, 578),\n",
       "  (900498, 1, 78, 219),\n",
       "  (940606, 8, 1482, 4525),\n",
       "  (947869, 2, 87, 260),\n",
       "  (951915, 7, 20, 71),\n",
       "  (989530, 1, 553, 3346),\n",
       "  (1062901, 2, 84, 278),\n",
       "  (1123434, 1, 103, 306),\n",
       "  (1139893, 1, 26583, 77320),\n",
       "  (1172493, 1, 438, 1039),\n",
       "  (1228141, 1, 564, 1441),\n",
       "  (1241722, 46, 90, 321),\n",
       "  (1286661, 1, 242, 505),\n",
       "  (1290194, 2, 3110, 34794),\n",
       "  (1360154, 2, 2, 4),\n",
       "  (1432754, 2, 69, 517),\n",
       "  (1491100, 23, 382, 903),\n",
       "  (1508301, 3, 118, 525),\n",
       "  (1512988, 4, 11, 22),\n",
       "  (1616492, 1, 1003, 3209),\n",
       "  (1629191, 1, 44, 194),\n",
       "  (1744867, 200, 200, 672),\n",
       "  (1822603, 1, 35, 52),\n",
       "  (1980293, 1, 481, 1589),\n",
       "  (2091771, 1, 9, 360),\n",
       "  (2438696, 1, 38, 107),\n",
       "  (2568296, 1, 62, 206),\n",
       "  (2760698, 1, 41, 148),\n",
       "  (2846660, 1, 1, 3),\n",
       "  (2890996, 1, 182, 483),\n",
       "  (2945604, 1, 49, 147),\n",
       "  (3052795, 11, 11, 37),\n",
       "  (3229408, 7, 7, 19),\n",
       "  (3317481, 1, 12, 38),\n",
       "  (3349146, 1, 16897, 56921),\n",
       "  (3404894, 1, 16, 45),\n",
       "  (3408045, 5, 5, 19),\n",
       "  (3511290, 1, 164, 605),\n",
       "  (3576625, 1, 56, 181),\n",
       "  (3577762, 3, 3, 14),\n",
       "  (3580592, 11, 34, 95),\n",
       "  (3620631, 44, 48, 275),\n",
       "  (3661758, 1, 70, 194),\n",
       "  (3716527, 2, 46, 142),\n",
       "  (3742177, 6, 6, 30),\n",
       "  (3848674, 1, 1, 3),\n",
       "  (4117433, 3, 3, 12),\n",
       "  (4137095, 27, 27, 89),\n",
       "  (4163014, 2, 27, 97),\n",
       "  (4251074, 1, 37, 107),\n",
       "  (4584893, 1, 404, 2701),\n",
       "  (4936438, 5, 5, 15),\n",
       "  (5042951, 3, 4352, 20456),\n",
       "  (5053767, 15, 15, 28),\n",
       "  (5101133, 89, 91, 253),\n",
       "  (5175362, 1, 43, 107),\n",
       "  (5177482, 1, 22, 54),\n",
       "  (5207275, 7, 7, 26),\n",
       "  (5211371, 28, 28, 181),\n",
       "  (5323713, 1, 64, 336),\n",
       "  (5452949, 1, 36, 146),\n",
       "  (5820970, 5, 14, 66),\n",
       "  (5921480, 18, 18, 40),\n",
       "  (6184541, 1, 66, 210),\n",
       "  (6320168, 1, 76, 581),\n",
       "  (6692007, 1, 1, 6),\n",
       "  (6746761, 2, 31, 76),\n",
       "  (6956596, 26, 26, 71),\n",
       "  (7144358, 20, 813, 1226),\n",
       "  (7188425, 1, 36, 184),\n",
       "  (7579959, 1, 18, 60),\n",
       "  (7804859, 7, 7, 23),\n",
       "  (7984172, 18, 36, 110),\n",
       "  (8372004, 44, 64, 144),\n",
       "  (8544676, 2, 800, 1994),\n",
       "  (8718413, 1, 129, 395),\n",
       "  (8837930, 2, 52, 140),\n",
       "  (9344386, 1, 20, 101),\n",
       "  (9346484, 3, 3, 15),\n",
       "  (9434339, 1, 19, 89),\n",
       "  (9593045, 10, 10, 45),\n",
       "  (9689674, 28, 28, 89),\n",
       "  (9743013, 1, 1, 7),\n",
       "  (9814807, 25, 25, 82),\n",
       "  (9988187, 54, 13854, 36344),\n",
       "  (10034431, 1, 14, 54),\n",
       "  (10448121, 1, 12, 33),\n",
       "  (10928765, 1, 18, 51),\n",
       "  (11038711, 1, 6, 35),\n",
       "  (11048161, 3, 60, 90),\n",
       "  (11057200, 369, 371, 1347),\n",
       "  (11569429, 2, 2, 6),\n",
       "  (11718624, 1, 1, 3),\n",
       "  (12363150, 1, 151, 520),\n",
       "  (12529962, 14, 14, 36),\n",
       "  (12583841, 1, 30, 92),\n",
       "  (13312465, 5, 67, 315),\n",
       "  (13475971, 53, 53, 152),\n",
       "  (13534706, 9, 9, 29),\n",
       "  (14015912, 1, 111, 460),\n",
       "  (15050229, 1, 97, 337),\n",
       "  (15433338, 1, 10, 61),\n",
       "  (16816239, 6, 6, 11),\n",
       "  (16896008, 1, 272, 909),\n",
       "  (16962949, 2, 28, 129),\n",
       "  (17163802, 1, 6, 14),\n",
       "  (17260282, 5, 8, 39),\n",
       "  (17305526, 1, 1, 6),\n",
       "  (18089188, 32, 32, 124),\n",
       "  (18246585, 1, 42, 174),\n",
       "  (18904450, 2, 6, 26),\n",
       "  (18956166, 1, 1273, 2203),\n",
       "  (18993927, 1, 2220, 6335),\n",
       "  (19165287, 9, 10, 67),\n",
       "  (19337279, 1, 1689, 6383),\n",
       "  (20082556, 2, 2, 9),\n",
       "  (20130172, 1, 56, 107),\n",
       "  (20545258, 1, 1, 5),\n",
       "  (20739576, 278, 278, 1041),\n",
       "  (21175114, 1, 20, 51),\n",
       "  (21208200, 1, 2391, 6435),\n",
       "  (21438292, 1, 22, 85),\n",
       "  (21479645, 6, 6, 33),\n",
       "  (21866317, 10, 11, 85),\n",
       "  (22025015, 1, 17, 77),\n",
       "  (22290125, 3, 6, 66),\n",
       "  (22635964, 7, 7, 14),\n",
       "  (23275904, 1, 1481, 3063),\n",
       "  (23428417, 4, 4, 17),\n",
       "  (23963213, 13, 13, 26),\n",
       "  (24002394, 2, 70, 239),\n",
       "  (24082935, 2, 10, 44),\n",
       "  (24160269, 1, 1, 5),\n",
       "  (24466429, 27, 631, 1992),\n",
       "  (24586740, 1, 2, 13),\n",
       "  (24697071, 2, 37, 64),\n",
       "  (25445630, 3, 4, 11),\n",
       "  (25530493, 2, 2, 10),\n",
       "  (25967484, 1, 5, 16),\n",
       "  (26061826, 2, 33, 117),\n",
       "  (26688985, 1, 334, 841),\n",
       "  (27118950, 3, 6, 19),\n",
       "  (27347581, 2, 2, 8),\n",
       "  (27630728, 1, 1, 5),\n",
       "  (28821336, 7, 7, 37),\n",
       "  (28931449, 2, 33, 57),\n",
       "  (29655037, 7, 7, 17),\n",
       "  (30681410, 2, 2, 12),\n",
       "  (30863321, 1, 26, 59),\n",
       "  (30864588, 1, 2, 14),\n",
       "  (31341839, 3, 6, 21),\n",
       "  (31428891, 4, 4, 18),\n",
       "  (31837733, 1, 24, 69),\n",
       "  (32162567, 1, 20, 60),\n",
       "  (32189545, 1, 1, 5),\n",
       "  (33137114, 9, 9, 44),\n",
       "  (34239638, 1, 1, 2),\n",
       "  (35002256, 10, 10, 32),\n",
       "  (35192131, 1, 3, 14),\n",
       "  (35226408, 7, 7, 16),\n",
       "  (35615250, 5, 6, 20),\n",
       "  (35924721, 3, 8, 46),\n",
       "  (36070460, 1, 7, 20),\n",
       "  (36094802, 2, 8, 20),\n",
       "  (36213021, 1, 1, 3),\n",
       "  (36318282, 22, 22, 69),\n",
       "  (36672670, 2, 2, 6),\n",
       "  (37082743, 2, 2, 8),\n",
       "  (37082791, 1, 1, 5),\n",
       "  (37083251, 2, 2, 11),\n",
       "  (37593992, 7, 7, 33),\n",
       "  (37811006, 2, 2, 10),\n",
       "  (38162520, 1, 10, 45),\n",
       "  (38952223, 2, 11, 27),\n",
       "  (39255130, 9, 9, 20),\n",
       "  (39742082, 7, 7, 34),\n",
       "  (40013065, 1, 4, 24),\n",
       "  (40091782, 1, 16, 54),\n",
       "  (40505955, 4, 273, 775),\n",
       "  (40594547, 3, 9, 44),\n",
       "  (40802468, 10, 10, 28),\n",
       "  (40840821, 1, 2, 22),\n",
       "  (41298602, 1, 67, 228),\n",
       "  (42738989, 1, 22, 112),\n",
       "  (42884180, 10, 50, 338),\n",
       "  (44201123, 32, 33, 279),\n",
       "  (44331442, 2, 493, 1580),\n",
       "  (45052748, 14, 14, 30),\n",
       "  (45418749, 1, 1, 15),\n",
       "  (46607280, 1, 1, 7),\n",
       "  (47058510, 6, 6, 9),\n",
       "  (48099403, 5, 5, 20),\n",
       "  (48758386, 3, 358, 1034),\n",
       "  (49394646, 1, 48, 444),\n",
       "  (49595888, 4, 4, 19),\n",
       "  (49742724, 1, 24, 103),\n",
       "  (50116456, 1, 30, 88),\n",
       "  (50652393, 1, 64, 391),\n",
       "  (51305639, 7, 7, 52),\n",
       "  (52102667, 1, 1, 6),\n",
       "  (53306906, 1, 41, 214),\n",
       "  (53405024, 8, 8, 35),\n",
       "  (53491393, 3, 3, 5),\n",
       "  (53557106, 1, 4, 12),\n",
       "  (54047318, 2, 9, 26),\n",
       "  (54147740, 1, 32, 150),\n",
       "  (54177099, 1, 1, 2),\n",
       "  (54375684, 1, 65, 214),\n",
       "  (54572207, 1, 10, 50),\n",
       "  (54902736, 8, 8, 37),\n",
       "  (55224234, 1, 6, 28),\n",
       "  (56822861, 2, 903, 2290),\n",
       "  (57317051, 6, 6, 20),\n",
       "  (59929381, 2, 2, 13),\n",
       "  (61047426, 4, 304, 1921),\n",
       "  (61360075, 15, 15, 51),\n",
       "  (61502967, 12, 12, 42),\n",
       "  (61508311, 1, 1, 13),\n",
       "  (62792474, 1, 42, 71),\n",
       "  (63254563, 2, 2, 4),\n",
       "  (63363334, 1, 20, 102),\n",
       "  (63625590, 1, 4, 19),\n",
       "  (63747229, 1, 1, 7),\n",
       "  (64479333, 7, 7, 42),\n",
       "  (65562716, 1, 5, 25),\n",
       "  (66418565, 1, 5, 6),\n",
       "  (67115300, 7, 7, 20),\n",
       "  (67299506, 2, 2, 5),\n",
       "  (67442803, 1, 1, 2),\n",
       "  (68359750, 1, 1, 4)])"
      ]
     },
     "execution_count": 31,
     "metadata": {},
     "output_type": "execute_result"
    }
   ],
   "source": [
    "def is_it_in(x):\n",
    "    return x[0]==\"trend\"\n",
    "    #return (x[0] in [\"dim\",\"flavour\",\"flavor\",\"vanilla\",\"eiffel\",\"michelin\",\"nippl\",\"pasta\"])\n",
    "\n",
    "p = postings_filtered.filter(lambda x: is_it_in(x))\n",
    "\n",
    "p.take(1)[0]\n"
   ]
  },
  {
   "cell_type": "code",
   "execution_count": 49,
   "id": "f8801151",
   "metadata": {},
   "outputs": [
    {
     "name": "stderr",
     "output_type": "stream",
     "text": [
      "                                                                                \r"
     ]
    },
    {
     "data": {
      "text/plain": [
       "1"
      ]
     },
     "execution_count": 49,
     "metadata": {},
     "output_type": "execute_result"
    }
   ],
   "source": [
    "# def get_max_from_4(tup):\n",
    "#     maximum = tup[0]\n",
    "#     for t in tup:\n",
    "#         if t<maximum:\n",
    "#             maximum = t\n",
    "            \n",
    "#     return maximum\n",
    "\n",
    "\n",
    "\n",
    "# p.flatMap(lambda x: x[1]).map(get_max_from_4).min()"
   ]
  },
  {
   "cell_type": "code",
   "execution_count": null,
   "id": "3bb8f861",
   "metadata": {
    "id": "3bb8f861",
    "nbgrader": {
     "grade": true,
     "grade_id": "cell-index_const_time",
     "locked": true,
     "points": 10,
     "schema_version": 3,
     "solution": false,
     "task": false
    }
   },
   "outputs": [],
   "source": [
    "# test index construction time\n",
    "#assert index_const_time < 60*120"
   ]
  },
  {
   "cell_type": "code",
   "execution_count": 16,
   "id": "6cea668c",
   "metadata": {
    "id": "6cea668c",
    "nbgrader": {
     "grade": true,
     "grade_id": "collect-posting",
     "locked": true,
     "points": 0,
     "schema_version": 3,
     "solution": false,
     "task": false
    }
   },
   "outputs": [],
   "source": [
    "# collect all posting lists locations into one super-set\n",
    "super_posting_locs = defaultdict(list)\n",
    "for blob in client.list_blobs(bucket_name, prefix=FOLDER_NAME):\n",
    "  if not blob.name.endswith(\"pickle\"):\n",
    "    continue\n",
    "  with blob.open(\"rb\") as f:\n",
    "    posting_locs = pickle.load(f)\n",
    "    for k, v in posting_locs.items():\n",
    "      super_posting_locs[k].extend(v)"
   ]
  },
  {
   "cell_type": "markdown",
   "id": "f110c05d",
   "metadata": {
    "id": "f110c05d"
   },
   "source": [
    "Putting it all together"
   ]
  },
  {
   "cell_type": "code",
   "execution_count": 17,
   "id": "24a19a49",
   "metadata": {
    "id": "24a19a49",
    "outputId": "b78e423b-6533-4f3c-bb85-41913344dbef"
   },
   "outputs": [
    {
     "name": "stdout",
     "output_type": "stream",
     "text": [
      "Copying file://index.pkl [Content-Type=application/octet-stream]...\n",
      "/ [1 files][  2.2 KiB/  2.2 KiB]                                                \n",
      "Operation completed over 1 objects/2.2 KiB.                                      \n"
     ]
    }
   ],
   "source": [
    "# Create inverted index instance\n",
    "inverted = InvertedIndex()\n",
    "# Adding the posting locations dictionary to the inverted index\n",
    "inverted.posting_locs = super_posting_locs\n",
    "# Add the token - df dictionary to the inverted index\n",
    "inverted.df = w2df_dict\n",
    "inverted.AVGDL = 79.8183118653278\n",
    "# write the global stats out\n",
    "inverted.write_index('.', 'index')\n",
    "# upload to gs\n",
    "index_src = \"index.pkl\"\n",
    "index_dst = f'gs://{bucket_name}/{FOLDER_NAME}/{index_src}'\n",
    "!gsutil cp $index_src $index_dst"
   ]
  },
  {
   "cell_type": "code",
   "execution_count": 18,
   "id": "b288d7a5",
   "metadata": {
    "id": "b288d7a5",
    "nbgrader": {
     "grade": false,
     "grade_id": "cell-index_dst_size",
     "locked": true,
     "schema_version": 3,
     "solution": false,
     "task": false
    },
    "outputId": "f9aede6f-a3ff-4464-ae83-b407580b6dac"
   },
   "outputs": [
    {
     "name": "stdout",
     "output_type": "stream",
     "text": [
      "  2.18 KiB  2022-01-05T14:02:19Z  gs://idx316179928316366087idx/postings_small_anchor_text_gcp_2/index.pkl\r\n",
      "TOTAL: 1 objects, 2229 bytes (2.18 KiB)\r\n"
     ]
    }
   ],
   "source": [
    "!gsutil ls -lh $index_dst"
   ]
  },
  {
   "cell_type": "code",
   "execution_count": null,
   "metadata": {
    "collapsed": false,
    "pycharm": {
     "name": "#%%\n"
    }
   },
   "outputs": [],
   "source": [
    "def is_it_in(x):\n",
    "    return x[0]==\"trend\"\n",
    "    #return (x[0] in [\"dim\",\"flavour\",\"flavor\",\"vanilla\",\"eiffel\",\"michelin\",\"nippl\",\"pasta\"])\n",
    "\n",
    "p = postings_filtered.filter(lambda x: is_it_in(x))\n",
    "\n",
    "p.take(1)[0]"
   ]
  },
  {
   "cell_type": "code",
   "execution_count": 32,
   "id": "2df4feda",
   "metadata": {},
   "outputs": [
    {
     "name": "stderr",
     "output_type": "stream",
     "text": [
      "[Stage 89:======================================================> (96 + 2) / 99]\r"
     ]
    },
    {
     "name": "stdout",
     "output_type": "stream",
     "text": [
      "trend\n",
      "27\n",
      "1536\n"
     ]
    },
    {
     "name": "stderr",
     "output_type": "stream",
     "text": [
      "                                                                                \r"
     ]
    }
   ],
   "source": [
    "import struct\n",
    "\n",
    "def fix_file(pl, offset, blob_number):\n",
    "    bucket = client.bucket(bucket_name)\n",
    "    blob = bucket.blob(f\"postings_small_anchor_text_gcp_2/{blob_number}_000.bin\")    \n",
    "    if offset==0:\n",
    "        with blob.open(\"wb\") as f:\n",
    "            b = b''.join([struct.pack(\"IIII\", doc_id, tf, max_tf, doc_len) for doc_id, tf, max_tf, doc_len in pl])\n",
    "            f.write(b)\n",
    "    else:\n",
    "        with blob.open(\"rb\") as f:\n",
    "            old_bytes = f.read(offset)\n",
    "        with blob.open(\"wb\") as f:\n",
    "            b = b''.join([struct.pack(\"IIII\", doc_id, tf, max_tf, doc_len) for doc_id, tf, max_tf, doc_len in pl])\n",
    "            b= old_bytes+b\n",
    "            f.write(b)\n",
    "\n",
    "all_words_pls = p.take(1)\n",
    "for word, pl in all_words_pls:\n",
    "#     pl = p.take(1)[0][1]\n",
    "    b_id = token2bucket_id(word)\n",
    "    offset = inverted.posting_locs[word][0][1]\n",
    "\n",
    "    print(word)\n",
    "    print(b_id)\n",
    "    print(offset)\n",
    "    fix_file(pl, offset, b_id)\n",
    "\n",
    "\n"
   ]
  },
  {
   "cell_type": "code",
   "execution_count": 29,
   "id": "73ff5ea1",
   "metadata": {},
   "outputs": [
    {
     "name": "stdout",
     "output_type": "stream",
     "text": [
      "dim : [('40_000.bin', 425360)]\n",
      "flavour : [('71_000.bin', 0)]\n",
      "flavor : [('68_000.bin', 0)]\n",
      "vanilla : [('50_000.bin', 0)]\n",
      "eiffel : [('106_000.bin', 0)]\n",
      "michelin : [('54_000.bin', 0)]\n",
      "nippl : [('67_000.bin', 0)]\n",
      "pasta : [('27_000.bin', 0)]\n"
     ]
    }
   ],
   "source": [
    "lst = [\"dim\",\"flavour\",\"flavor\",\"vanilla\",\"eiffel\",\"michelin\",\"nippl\",\"pasta\"]\n",
    "\n",
    "for word in lst:\n",
    "    print(f\"{word} : {inverted.posting_locs[word]}\")"
   ]
  },
  {
   "cell_type": "markdown",
   "id": "e3588319",
   "metadata": {
    "id": "e3588319",
    "nbgrader": {
     "grade": false,
     "grade_id": "cell-2a6d655c112e79c5",
     "locked": true,
     "schema_version": 3,
     "solution": false,
     "task": false
    }
   },
   "source": [
    "# PageRank"
   ]
  },
  {
   "cell_type": "markdown",
   "id": "e02ec555",
   "metadata": {
    "id": "e02ec555",
    "nbgrader": {
     "grade": false,
     "grade_id": "cell-2fee4bc8d83c1e2a",
     "locked": true,
     "schema_version": 3,
     "solution": false,
     "task": false
    }
   },
   "source": [
    "**YOUR TASK (10 POINTS):** Compute PageRank for the entire English Wikipedia. Use your implementation for `generate_graph` function from Colab below."
   ]
  },
  {
   "cell_type": "code",
   "execution_count": null,
   "id": "42362f51",
   "metadata": {
    "id": "42362f51"
   },
   "outputs": [],
   "source": [
    "def create_references(source_id, dest_list):\n",
    "  return set([(source_id,dest_id) for dest_id,text in dest_list]) #change to set andd removed distinct at (1)\n",
    "\n",
    "def generate_graph(pages):\n",
    "  ''' Compute the directed graph generated by wiki links.\n",
    "  Parameters:\n",
    "  -----------\n",
    "    pages: RDD\n",
    "      An RDD where each row consists of one wikipedia articles with 'id' and \n",
    "      'anchor_text'.\n",
    "  Returns:\n",
    "  --------1\n",
    "    edges: RDD\n",
    "      An RDD where each row represents an edge in the directed graph created by\n",
    "      the wikipedia links. The first entry should the source page id and the \n",
    "      second entry is the destination page id. No duplicates should be present. \n",
    "    vertices: RDD\n",
    "      An RDD where each row represents a vetrix (node) in the directed graph \n",
    "      created by the wikipedia links. No duplicates should be present. \n",
    "  '''\n",
    "  # YOUR CODE HERE\n",
    "  edges = pages.flatMap(lambda x: create_references(x[0],x[1])) # removed distinct (1)\n",
    "  vertices = edges.flatMap(lambda x: [(x[0],),(x[1],)]).distinct()\n",
    "  return edges, vertices"
   ]
  },
  {
   "cell_type": "code",
   "execution_count": null,
   "id": "f6ad2b01",
   "metadata": {
    "id": "f6ad2b01",
    "nbgrader": {
     "grade": false,
     "grade_id": "cell-PageRank",
     "locked": false,
     "schema_version": 3,
     "solution": true,
     "task": false
    },
    "outputId": "2327287b-6b35-4adb-dc90-aa71e62f75d7"
   },
   "outputs": [
    {
     "name": "stderr",
     "output_type": "stream",
     "text": [
      "[Stage 467:=================================================>  (190 + 10) / 200]\r"
     ]
    },
    {
     "name": "stdout",
     "output_type": "stream",
     "text": [
      "+-------+------------------+\n",
      "|     id|          pagerank|\n",
      "+-------+------------------+\n",
      "|3434750|  9913.72878216077|\n",
      "|  10568| 5385.349263642033|\n",
      "|  32927|5282.0815757652745|\n",
      "|  30680| 5128.233709604118|\n",
      "|5843419| 4957.567686263867|\n",
      "|  68253| 4769.278265355157|\n",
      "|  31717|4486.3501805483065|\n",
      "|  11867| 4146.414650912769|\n",
      "|  14533| 3996.466440885499|\n",
      "| 645042|  3531.62708980374|\n",
      "|  17867|3246.0983906041397|\n",
      "|5042916|2991.9457391661763|\n",
      "|4689264| 2982.324883041745|\n",
      "|  14532|2934.7468292031685|\n",
      "|  25391|2903.5462235133978|\n",
      "|   5405| 2891.416329154635|\n",
      "|4764461|2834.3669873326585|\n",
      "|  15573| 2783.865118158837|\n",
      "|   9316| 2782.039646413768|\n",
      "|8569916|2775.2861918400135|\n",
      "+-------+------------------+\n",
      "only showing top 20 rows\n",
      "\n"
     ]
    },
    {
     "name": "stderr",
     "output_type": "stream",
     "text": [
      "                                                                                \r"
     ]
    }
   ],
   "source": [
    "t_start = time()\n",
    "pages_links = spark.read.parquet(\"gs://wikidata_preprocessed/*\").select(\"id\", \"anchor_text\").rdd\n",
    "# construct the graph \n",
    "edges, vertices = generate_graph(pages_links)\n",
    "# compute PageRank\n",
    "edgesDF = edges.toDF(['src', 'dst']).repartition(124, 'src')\n",
    "verticesDF = vertices.toDF(['id']).repartition(124, 'id')\n",
    "g = GraphFrame(verticesDF, edgesDF)\n",
    "pr_results = g.pageRank(resetProbability=0.15, maxIter=6)\n",
    "pr = pr_results.vertices.select(\"id\", \"pagerank\")\n",
    "pr = pr.sort(col('pagerank').desc())\n",
    "pr.repartition(1).write.csv(f'gs://{bucket_name}/pr', compression=\"gzip\")\n",
    "pr_time = time() - t_start\n",
    "pr.show()"
   ]
  },
  {
   "cell_type": "code",
   "execution_count": null,
   "id": "ea530eed",
   "metadata": {
    "id": "ea530eed",
    "nbgrader": {
     "grade": true,
     "grade_id": "cell-PageRank_time",
     "locked": true,
     "points": 10,
     "schema_version": 3,
     "solution": false,
     "task": false
    }
   },
   "outputs": [],
   "source": [
    "# test that PageRank computaion took less than 1 hour\n",
    "assert pr_time < 60*60"
   ]
  },
  {
   "cell_type": "markdown",
   "id": "33b7d716",
   "metadata": {
    "id": "33b7d716"
   },
   "source": [
    "# Reporting"
   ]
  },
  {
   "cell_type": "markdown",
   "id": "665b6f31",
   "metadata": {
    "id": "665b6f31"
   },
   "source": [
    "**YOUR TASK (5 points):** execute and complete the following lines to complete \n",
    "the reporting requirements for assignment #3. "
   ]
  },
  {
   "cell_type": "code",
   "execution_count": null,
   "id": "a15ff422",
   "metadata": {
    "id": "a15ff422",
    "nbgrader": {
     "grade": false,
     "grade_id": "cell-size_ofi_input_data",
     "locked": true,
     "schema_version": 3,
     "solution": false,
     "task": false
    },
    "outputId": "54595c29-4ae3-4b78-86d0-d8457ae9c150"
   },
   "outputs": [
    {
     "name": "stdout",
     "output_type": "stream",
     "text": [
      "14.28 GiB    gs://wikidata_preprocessed\r\n"
     ]
    }
   ],
   "source": [
    "# size of input data\n",
    "!gsutil du -sh \"gs://wikidata_preprocessed/\""
   ]
  },
  {
   "cell_type": "code",
   "execution_count": null,
   "id": "e076b82a",
   "metadata": {
    "id": "e076b82a",
    "nbgrader": {
     "grade": false,
     "grade_id": "cell-size_of_index_data",
     "locked": true,
     "schema_version": 3,
     "solution": false,
     "task": false
    },
    "outputId": "44d9721a-1cd7-4e59-9f78-5439864cfdad"
   },
   "outputs": [
    {
     "name": "stdout",
     "output_type": "stream",
     "text": [
      "5.92 GiB     gs://316366087_bucket/postings_gcp\r\n"
     ]
    }
   ],
   "source": [
    "# size of index data\n",
    "index_dst = f'gs://{bucket_name}/postings_gcp/'\n",
    "!gsutil du -sh \"$index_dst\""
   ]
  },
  {
   "cell_type": "code",
   "execution_count": null,
   "id": "f95bce2f",
   "metadata": {
    "colab": {
     "base_uri": "https://localhost:8080/"
    },
    "id": "f95bce2f",
    "nbgrader": {
     "grade": false,
     "grade_id": "cell-credits",
     "locked": true,
     "schema_version": 3,
     "solution": false,
     "task": false
    },
    "outputId": "32c7163e-6c47-4738-f580-93971eead2bf"
   },
   "outputs": [
    {
     "name": "stdout",
     "output_type": "stream",
     "text": [
      "I used 2.67 USD credit during the course of this assignment\n"
     ]
    }
   ],
   "source": [
    "# How many USD credits did you use in GCP during the course of this assignment?\n",
    "cost = 2.67 \n",
    "print(f'I used {cost} USD credit during the course of this assignment')"
   ]
  },
  {
   "cell_type": "markdown",
   "id": "0e52e0e9",
   "metadata": {
    "id": "0e52e0e9"
   },
   "source": [
    "**Bonus (10 points)** if you implement PageRank in pure PySpark, i.e. without using the GraphFrames package, AND manage to complete 10 iterations of your algorithm on the entire English Wikipedia in less than an hour. \n"
   ]
  },
  {
   "cell_type": "code",
   "execution_count": null,
   "id": "fda34b24",
   "metadata": {
    "id": "fda34b24",
    "nbgrader": {
     "grade": false,
     "grade_id": "cell-PageRank_Bonus",
     "locked": false,
     "schema_version": 3,
     "solution": true,
     "task": false
    }
   },
   "outputs": [],
   "source": [
    "#If you have decided to do the bonus task - please copy the code here \n",
    "\n",
    "bonus_flag = False # Turn flag on (True) if you have implemented this part\n",
    "\n",
    "t_start = time()\n",
    "\n",
    "# PLACE YOUR CODE HERE\n",
    "\n",
    "pr_time_Bonus = time() - t_start\n"
   ]
  },
  {
   "cell_type": "code",
   "execution_count": null,
   "id": "47e4b7a0",
   "metadata": {
    "id": "47e4b7a0",
    "nbgrader": {
     "grade": true,
     "grade_id": "cell-PageRank_Bonus-time",
     "locked": true,
     "points": 10,
     "schema_version": 3,
     "solution": false,
     "task": false
    }
   },
   "outputs": [],
   "source": [
    "# Note:test that PageRank computaion took less than 1 hour\n",
    "assert pr_time_Bonus < 60*60 and bonus_flag"
   ]
  }
 ],
 "metadata": {
  "celltoolbar": "Create Assignment",
  "colab": {
   "collapsed_sections": [],
   "name": "316366087_gcp.ipynb",
   "provenance": [],
   "toc_visible": true
  },
  "kernelspec": {
   "display_name": "PySpark",
   "language": "python",
   "name": "pyspark"
  },
  "language_info": {
   "codemirror_mode": {
    "name": "ipython",
    "version": 3
   },
   "file_extension": ".py",
   "mimetype": "text/x-python",
   "name": "python",
   "nbconvert_exporter": "python",
   "pygments_lexer": "ipython3",
   "version": "3.8.12"
  }
 },
 "nbformat": 4,
 "nbformat_minor": 5
}

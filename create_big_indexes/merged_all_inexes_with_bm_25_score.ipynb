{
 "cells": [
  {
   "cell_type": "markdown",
   "source": [
    "***Important*** DO NOT CLEAR THE OUTPUT OF THIS NOTEBOOK AFTER EXECUTION!!!"
   ],
   "metadata": {
    "collapsed": false
   }
  },
  {
   "cell_type": "code",
   "execution_count": null,
   "outputs": [],
   "source": [
    "# if the following command generates an error, you probably didn't enable\n",
    "# the cluster security option \"Allow API access to all Google Cloud services\"\n",
    "# under Manage Security → Project Access when setting up the cluster\n",
    "!gcloud dataproc clusters list --region us-central1"
   ],
   "metadata": {
    "collapsed": false,
    "pycharm": {
     "name": "#%%\n"
    }
   }
  },
  {
   "cell_type": "markdown",
   "source": [
    "# Imports & Setup"
   ],
   "metadata": {
    "collapsed": false
   }
  },
  {
   "cell_type": "code",
   "execution_count": null,
   "outputs": [],
   "source": [
    "!pip install -q google-cloud-storage==1.43.0\n",
    "!pip install -q graphframes"
   ],
   "metadata": {
    "collapsed": false,
    "pycharm": {
     "name": "#%%\n"
    }
   }
  },
  {
   "cell_type": "code",
   "execution_count": null,
   "outputs": [],
   "source": [
    "import pyspark\n",
    "import sys\n",
    "from collections import Counter, OrderedDict, defaultdict\n",
    "import itertools\n",
    "from itertools import islice, count, groupby\n",
    "import pandas as pd\n",
    "import os\n",
    "import re\n",
    "from operator import itemgetter\n",
    "import nltk\n",
    "from nltk.stem.porter import *\n",
    "from nltk.corpus import stopwords\n",
    "from time import time\n",
    "from pathlib import Path\n",
    "import pickle\n",
    "import pandas as pd\n",
    "from google.cloud import storage\n",
    "import struct\n",
    "import hashlib\n",
    "def _hash(s):\n",
    "    return hashlib.blake2b(bytes(s, encoding='utf8'), digest_size=5).hexdigest()\n",
    "\n",
    "nltk.download('stopwords')"
   ],
   "metadata": {
    "collapsed": false,
    "pycharm": {
     "name": "#%%\n"
    }
   }
  },
  {
   "cell_type": "code",
   "execution_count": null,
   "outputs": [],
   "source": [
    "######CHANGE FOLDER NAME!!!!!!!!!!!!!!!!!!!!!!!!#########################################################\n",
    "FOLDER_NAME = \"merged_corpus_index_two_words\""
   ],
   "metadata": {
    "collapsed": false,
    "pycharm": {
     "name": "#%%\n"
    }
   }
  },
  {
   "cell_type": "code",
   "execution_count": null,
   "outputs": [],
   "source": [
    "# if nothing prints here you forgot to include the initialization script when starting the cluster\n",
    "!ls -l /usr/lib/spark/jars/graph*"
   ],
   "metadata": {
    "collapsed": false,
    "pycharm": {
     "name": "#%%\n"
    }
   }
  },
  {
   "cell_type": "code",
   "execution_count": null,
   "outputs": [],
   "source": [
    "from pyspark.sql import *\n",
    "from pyspark.sql.functions import *\n",
    "from pyspark import SparkContext, SparkConf, SparkFiles\n",
    "from pyspark.sql import SQLContext\n",
    "from graphframes import *"
   ],
   "metadata": {
    "collapsed": false,
    "pycharm": {
     "name": "#%%\n"
    }
   }
  },
  {
   "cell_type": "code",
   "execution_count": null,
   "outputs": [],
   "source": [
    "spark"
   ],
   "metadata": {
    "collapsed": false,
    "pycharm": {
     "name": "#%%\n"
    }
   }
  },
  {
   "cell_type": "code",
   "execution_count": null,
   "outputs": [],
   "source": [
    "# Put your bucket name below and make sure you can access it without an error\n",
    "bucket_name = 'idx316179928316366087idx'\n",
    "client = storage.Client()\n",
    "blobs = client.list_blobs(bucket_name)\n",
    "for b in blobs:\n",
    "    print(b.name)"
   ],
   "metadata": {
    "collapsed": false,
    "pycharm": {
     "name": "#%%\n"
    }
   }
  },
  {
   "cell_type": "markdown",
   "source": [
    "***GCP setup is complete!*** If you got here without any errors you've earned 10 out of the 35 points of this part."
   ],
   "metadata": {
    "collapsed": false
   }
  },
  {
   "cell_type": "markdown",
   "source": [
    "# Building an inverted index"
   ],
   "metadata": {
    "collapsed": false
   }
  },
  {
   "cell_type": "markdown",
   "source": [
    "Here, we read the entire corpus to an rdd, directly from Google Storage Bucket and use your code from Colab to construct an inverted index."
   ],
   "metadata": {
    "collapsed": false
   }
  },
  {
   "cell_type": "code",
   "execution_count": null,
   "outputs": [],
   "source": [
    "full_path = \"gs://wikidata_preprocessed/*\"\n",
    "parquetFile = spark.read.parquet(full_path)\n",
    "\n",
    "#######################################only for anchor text###################################\n",
    "def id_to_anchor_text(id_and_text):\n",
    "  return [(id,text) for id, text in id_and_text]\n",
    "\n",
    "def reduce_anchor_text(list_of_text):\n",
    "  return \" \".join(list_of_text)\n",
    "\n",
    "####################COMMENT OUT WHEN CALCULATING ANCHOR TEXT INDEX ###########################################\n",
    "pages_links = parquetFile.select(\"id\", \"anchor_text\").rdd\n",
    "x = pages_links.flatMap(lambda x : id_to_anchor_text(x[1]))\n",
    "\n",
    "\n",
    "anchor_doc_text_pairs = x.groupByKey().mapValues(reduce_anchor_text).map(lambda x:(x[1],x[0]))\n",
    "title_doc_text_pairs = parquetFile.select(\"title\", \"id\").rdd\n",
    "body_doc_text_pairs = parquetFile.select(\"text\", \"id\").rdd"
   ],
   "metadata": {
    "collapsed": false,
    "pycharm": {
     "name": "#%%\n"
    }
   }
  },
  {
   "cell_type": "markdown",
   "source": [
    "We will count the number of pages to make sure we are looking at the entire corpus. The number of pages should be more than 6M"
   ],
   "metadata": {
    "collapsed": false
   }
  },
  {
   "cell_type": "code",
   "execution_count": null,
   "outputs": [],
   "source": [
    "# Count number of wiki pages for each\n",
    "# Count number of wiki pages for each\n",
    "N_of_anchor = anchor_doc_text_pairs.count()\n",
    "N_of_title =  title_doc_text_pairs.count()\n",
    "N_of_body = body_doc_text_pairs.count()\n",
    "\n",
    "BODY_AVGDL = 319.52423534118395\n",
    "TITLE_AVGDL = 2.525706459849008\n",
    "ANCHOR_TEXT_AVGDL = 79.8183118653278\n",
    "\n",
    "####title####\n",
    "OPTIMAL_K_FOR_TITLE = 0.3\n",
    "OPTIMAL_B_FOR_TITLE = 1\n",
    "OPTIMAL_WEIGHT_FOR_TITLE = 0.34\n",
    "####body####\n",
    "OPTIMAL_K_FOR_BODY = 2.7\n",
    "OPTIMAL_B_FOR_BODY = 0.05\n",
    "OPTIMAL_WEIGHT_FOR_BODY = 0.13\n",
    "####anchor####\n",
    "OPTIMAL_K_FOR_ANCHOR = 0.1\n",
    "OPTIMAL_B_FOR_ANCHOR = 0.2\n",
    "OPTIMAL_WEIGHT_FOR_ANCHOR = 0.53\n",
    "\n",
    "\n",
    "\n",
    "\n",
    "\n",
    "\n"
   ],
   "metadata": {
    "collapsed": false,
    "pycharm": {
     "name": "#%%\n"
    }
   }
  },
  {
   "cell_type": "markdown",
   "source": [
    "Let's import the inverted index module. Note that you need to use the staff-provided version called `inverted_index_gcp.py`, which contains helper functions to writing and reading the posting files similar to the Colab version, but with writing done to a Google Cloud Storage bucket."
   ],
   "metadata": {
    "collapsed": false
   }
  },
  {
   "cell_type": "code",
   "execution_count": null,
   "outputs": [],
   "source": [
    "# if nothing prints here you forgot to upload the file inverted_index_gcp.py to the home dir\n",
    "%cd -q /home/dataproc\n",
    "!ls merged_all_inexes_with_bm_25_score.py"
   ],
   "metadata": {
    "collapsed": false,
    "pycharm": {
     "name": "#%%\n"
    }
   }
  },
  {
   "cell_type": "code",
   "execution_count": null,
   "outputs": [],
   "source": [
    "# adding our python module to the cluster\n",
    "sc.addFile(\"/home/dataproc/merged_all_inexes_with_bm_25_score.py\")\n",
    "sys.path.insert(0,SparkFiles.getRootDirectory())"
   ],
   "metadata": {
    "collapsed": false,
    "pycharm": {
     "name": "#%%\n"
    }
   }
  },
  {
   "cell_type": "code",
   "execution_count": null,
   "outputs": [],
   "source": [
    "from merged_all_inexes_with_bm_25_score import InvertedIndex\n"
   ],
   "metadata": {
    "collapsed": false,
    "pycharm": {
     "name": "#%%\n"
    }
   }
  },
  {
   "cell_type": "markdown",
   "source": [
    "**YOUR TASK (10 POINTS)**: Use your implementation of `word_count`, `reduce_word_counts`, `calculate_df`, and `partition_postings_and_write` functions from Colab to build an inverted index for all of English Wikipedia in under 2 hours.\n",
    "\n",
    "A few notes:\n",
    "1. The number of corpus stopwords below is a bit bigger than the colab version since we are working on the whole corpus and not just on one file.\n",
    "2. You need to slightly modify your implementation of  `partition_postings_and_write` because the signature of `InvertedIndex.write_a_posting_list` has changed and now includes an additional argument called `bucket_name` for the target bucket. See the module for more details.\n",
    "3. You are not allowed to change any of the code not coming from Colab."
   ],
   "metadata": {
    "collapsed": false
   }
  },
  {
   "cell_type": "code",
   "execution_count": null,
   "outputs": [],
   "source": [
    "from nltk.stem.porter import *\n",
    "\n",
    "stemmer = PorterStemmer()\n",
    "\n",
    "\n",
    "english_stopwords = frozenset(stopwords.words('english'))\n",
    "corpus_stopwords = [\"category\", \"references\", \"also\", \"external\", \"links\",\n",
    "                    \"may\", \"first\", \"see\", \"history\", \"people\", \"one\", \"two\",\n",
    "                    \"part\", \"thumb\", \"including\", \"second\", \"following\",\n",
    "                    \"many\", \"however\", \"would\", \"became\"]\n",
    "\n",
    "all_stopwords = english_stopwords.union(corpus_stopwords)\n",
    "RE_WORD = re.compile(r\"\"\"[\\#\\@\\w](['\\-]?\\w){2,24}\"\"\", re.UNICODE)\n",
    "\n",
    "NUM_BUCKETS = 124\n",
    "def token2bucket_id(token):\n",
    "  return int(_hash(token),16) % NUM_BUCKETS\n",
    "\n",
    "# PLACE YOUR CODE HERE\n",
    "def word_count(text, id):\n",
    "  ''' Count the frequency of each word in `text` (tf) that is not included in\n",
    "  `all_stopwords` and return entries that will go into our posting lists.\n",
    "  Parameters:\n",
    "  -----------\n",
    "    text: str\n",
    "      Text of one document\n",
    "    id: int\n",
    "      Document id\n",
    "  Returns:\n",
    "  --------\n",
    "    List of tuples\n",
    "      A list of (token, (doc_id, tf)) pairs\n",
    "      for example: [(\"Anarchism\", (12, 5)), ...]\n",
    "  '''\n",
    "  tokens = [token.group() for token in RE_WORD.finditer(text.lower())]\n",
    "  #ADDED stopwords removal\n",
    "  tokens = [stemmer.stem(token) for token in tokens if token not in all_stopwords]\n",
    "  two_word_tokens = [tokens[i] + \" \" + tokens[i+1] for i in range(len(tokens)-1)]\n",
    "  tokens = tokens + two_word_tokens\n",
    "  # YOUR CODE HERE\n",
    "  count = Counter(tokens)\n",
    "  if len(count)==0:\n",
    "      return []\n",
    "  #### ADDED doc_len and max_tf to posting lists\n",
    "  #return [(word,(id,tf,max_tf, doc_len)) for word,tf in count.items() if word not in all_stopwords]\n",
    "  doc_len = len(tokens) #to normalize tf\n",
    "  return [(word,(id,tf,doc_len)) for word,tf in count.items()]\n",
    "\n",
    "\n",
    "\n",
    "def calculate_df(postings):\n",
    "  ''' Takes a posting list RDD and calculate the df for each token.\n",
    "  Parameters:\n",
    "  -----------\n",
    "    postings: RDD\n",
    "      An RDD where each element is a (token, posting_list) pair.\n",
    "  Returns:\n",
    "  --------\n",
    "    RDD\n",
    "      An RDD where each element is a (token, df) pair.\n",
    "  '''\n",
    "  # YOUR CODE HERE\n",
    "  return postings.mapValues(lambda x: len(x))\n",
    "\n",
    "\n",
    "def word_posting2bucket_and_wpl(word, posting_list):\n",
    "  return token2bucket_id(word),(word,posting_list)\n",
    "\n",
    "def write_bucket_to_disk(bucket_id, list_of_words_postings_tuples):\n",
    "  word2posting_locs = InvertedIndex().write_a_posting_list((bucket_id, list_of_words_postings_tuples),bucket_name, FOLDER_NAME)\n",
    "  return word2posting_locs\n",
    "\n",
    "def partition_postings_and_write(postings):\n",
    "  ''' A function that partitions the posting lists into buckets, writes out\n",
    "  all posting lists in a bucket to disk, and returns the posting locations for\n",
    "  each bucket. Partitioning should be done through the use of `token2bucket`\n",
    "  above. Writing to disk should use the function  `write_a_posting_list`, a\n",
    "  static method implemented in inverted_index_colab.py under the InvertedIndex\n",
    "  class.\n",
    "  Parameters:\n",
    "  -----------\n",
    "    postings: RDD\n",
    "      An RDD where each item is a (w, posting_list) pair.\n",
    "  Returns:\n",
    "  --------\n",
    "    RDD\n",
    "      An RDD where each item is a posting locations dictionary for a bucket. The\n",
    "      posting locations maintain a list for each word of file locations and\n",
    "      offsets its posting list was written to. See `write_a_posting_list` for\n",
    "      more details.\n",
    "  '''\n",
    "  # YOUR CODE HERE\n",
    "  bucket2posting_lists=postings.map(lambda x: word_posting2bucket_and_wpl(x[0],x[1])).groupByKey()#.mapValues().reduce_word_counts)\n",
    "  x= bucket2posting_lists.map(lambda x: write_bucket_to_disk(x[0],x[1]))\n",
    "  return x\n"
   ],
   "metadata": {
    "collapsed": false,
    "pycharm": {
     "name": "#%%\n"
    }
   }
  },
  {
   "cell_type": "code",
   "execution_count": null,
   "outputs": [],
   "source": [
    "from math import log10\n",
    "\"\"\"\n",
    "numerator = (k + 1) * tf\n",
    "denumerator = tf + k * (1 - b + ((b * doc_len) / AVGDL))\n",
    "(numerator / denumerator) * idf[term]\n",
    "\"\"\"\n",
    "def calculate_index_bm_25(pls, k, b,AVGDL, weight, N):\n",
    "    df = len(pls)\n",
    "    idf = log10((N + 1)/df)\n",
    "    posting_list_of_doc_id_score = []\n",
    "    for doc_id, tf, doc_len in pls:\n",
    "        numerator = (k + 1) * tf\n",
    "        denumerator = tf + k * (1 - b + ((b * doc_len) / AVGDL))\n",
    "        score = (numerator / denumerator) * idf\n",
    "        weighted_score = score*weight\n",
    "        posting_list_of_doc_id_score.append((doc_id, weighted_score))\n",
    "    return posting_list_of_doc_id_score\n"
   ],
   "metadata": {
    "collapsed": false,
    "pycharm": {
     "name": "#%%\n"
    }
   }
  },
  {
   "cell_type": "code",
   "execution_count": null,
   "outputs": [],
   "source": [
    "# title word counts map\n",
    "title_word_counts = title_doc_text_pairs.flatMap(lambda x: word_count(x[0], x[1]))\n",
    "title_postings = title_word_counts.groupByKey().mapValues(lambda x: calculate_index_bm_25(x,OPTIMAL_K_FOR_TITLE, OPTIMAL_B_FOR_TITLE, TITLE_AVGDL , OPTIMAL_WEIGHT_FOR_TITLE, N_of_title))\n",
    "# body word counts map\n",
    "body_word_counts = body_doc_text_pairs.flatMap(lambda x: word_count(x[0], x[1]))\n",
    "body_postings = body_word_counts.groupByKey().filter(lambda x: len(x[1])>50).mapValues(lambda x: calculate_index_bm_25(x,OPTIMAL_K_FOR_BODY, OPTIMAL_B_FOR_BODY, BODY_AVGDL, OPTIMAL_WEIGHT_FOR_BODY, N_of_body)) ## body is filtered!\n",
    "# anchor word counts map\n",
    "anchor_word_counts = anchor_doc_text_pairs.flatMap(lambda x: word_count(x[0], x[1]))\n",
    "anchor_postings = anchor_word_counts.groupByKey().mapValues(lambda x: calculate_index_bm_25(x, OPTIMAL_K_FOR_ANCHOR, OPTIMAL_B_FOR_ANCHOR, ANCHOR_TEXT_AVGDL, OPTIMAL_WEIGHT_FOR_ANCHOR, N_of_anchor))"
   ],
   "metadata": {
    "collapsed": false,
    "pycharm": {
     "name": "#%%\n"
    }
   }
  },
  {
   "cell_type": "code",
   "execution_count": null,
   "outputs": [],
   "source": [
    "def group_all_doc_ids_toghether(list_of_tuples):\n",
    "    count = Counter()\n",
    "    for doc_id, score in list_of_tuples:\n",
    "        count[doc_id] += score\n",
    "    return list(count.items())\n",
    "\n",
    "\n",
    "final_postings_after_merge = title_postings.union(body_postings).union(anchor_postings).reduceByKey(lambda a,b: a+b).mapValues(lambda x: group_all_doc_ids_toghether(x))"
   ],
   "metadata": {
    "collapsed": false,
    "pycharm": {
     "name": "#%%\n"
    }
   }
  },
  {
   "cell_type": "code",
   "execution_count": null,
   "outputs": [],
   "source": [
    "w2df = calculate_df(final_postings_after_merge)\n",
    "w2df_dict = w2df.collectAsMap()\n",
    "# partition posting lists and write out\n",
    "_ = partition_postings_and_write(final_postings_after_merge).collect()"
   ],
   "metadata": {
    "collapsed": false,
    "pycharm": {
     "name": "#%%\n"
    }
   }
  },
  {
   "cell_type": "code",
   "execution_count": null,
   "outputs": [],
   "source": [
    "# collect all posting lists locations into one super-set\n",
    "super_posting_locs = defaultdict(list)\n",
    "for blob in client.list_blobs(bucket_name, prefix=FOLDER_NAME):\n",
    "  if not blob.name.endswith(\"pickle\"):\n",
    "    continue\n",
    "  with blob.open(\"rb\") as f:\n",
    "    posting_locs = pickle.load(f)\n",
    "    for k, v in posting_locs.items():\n",
    "      super_posting_locs[k].extend(v)"
   ],
   "metadata": {
    "collapsed": false,
    "pycharm": {
     "name": "#%%\n"
    }
   }
  },
  {
   "cell_type": "markdown",
   "source": [
    "Putting it all together"
   ],
   "metadata": {
    "collapsed": false
   }
  },
  {
   "cell_type": "code",
   "execution_count": null,
   "outputs": [],
   "source": [
    "# Create inverted index instance\n",
    "inverted = InvertedIndex()\n",
    "# Adding the posting locations dictionary to the inverted index\n",
    "inverted.posting_locs = super_posting_locs\n",
    "# Add the token - df dictionary to the inverted index\n",
    "inverted.df = w2df_dict\n",
    "inverted.AVGDL = 0\n",
    "# write the global stats out\n",
    "inverted.write_index('.', 'index')\n",
    "# upload to gs\n",
    "index_src = \"index.pkl\"\n",
    "index_dst = f'gs://{bucket_name}/{FOLDER_NAME}/{index_src}'\n",
    "!gsutil cp $index_src $index_dst"
   ],
   "metadata": {
    "collapsed": false,
    "pycharm": {
     "name": "#%%\n"
    }
   }
  },
  {
   "cell_type": "code",
   "execution_count": null,
   "outputs": [],
   "source": [
    "!gsutil ls -lh $index_dst\n",
    "\n",
    "\n",
    "\n"
   ],
   "metadata": {
    "collapsed": false,
    "pycharm": {
     "name": "#%%\n"
    }
   }
  }
 ],
 "metadata": {
  "kernelspec": {
   "display_name": "Python 3",
   "language": "python",
   "name": "python3"
  },
  "language_info": {
   "codemirror_mode": {
    "name": "ipython",
    "version": 2
   },
   "file_extension": ".py",
   "mimetype": "text/x-python",
   "name": "python",
   "nbconvert_exporter": "python",
   "pygments_lexer": "ipython2",
   "version": "2.7.6"
  }
 },
 "nbformat": 4,
 "nbformat_minor": 0
}
{
 "cells": [
  {
   "cell_type": "code",
   "execution_count": null,
   "metadata": {
    "collapsed": true
   },
   "outputs": [],
   "source": [
    "t = sc.parallelize([('w',[(1,1),(3,4),(4,1)])])\n",
    "b = sc.parallelize([('w',[(1,2),(3,5)])])\n",
    "a = sc.parallelize([('w',[(1,3)])])\n",
    "\n",
    "\n",
    "\n",
    "def group_all_doc_ids_toghether(list_of_tuples):\n",
    "    count = Counter()\n",
    "    for doc_id, score in list_of_tuples:\n",
    "        count[doc_id] += score\n",
    "    return list(count.items())\n",
    "\n",
    "\n",
    "catch = t.union(b).union(a).reduceByKey(lambda a,b: a+b).mapValues(lambda x: group_all_doc_ids_toghether(x))"
   ]
  }
 ],
 "metadata": {
  "kernelspec": {
   "display_name": "Python 3",
   "language": "python",
   "name": "python3"
  },
  "language_info": {
   "codemirror_mode": {
    "name": "ipython",
    "version": 2
   },
   "file_extension": ".py",
   "mimetype": "text/x-python",
   "name": "python",
   "nbconvert_exporter": "python",
   "pygments_lexer": "ipython2",
   "version": "2.7.6"
  }
 },
 "nbformat": 4,
 "nbformat_minor": 0
}
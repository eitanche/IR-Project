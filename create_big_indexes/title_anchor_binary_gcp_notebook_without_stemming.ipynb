{
 "cells": [
  {
   "cell_type": "markdown",
   "id": "ebb51f5b",
   "metadata": {
    "id": "ebb51f5b"
   },
   "source": [
    "***Important*** DO NOT CLEAR THE OUTPUT OF THIS NOTEBOOK AFTER EXECUTION!!!"
   ]
  },
  {
   "cell_type": "code",
   "execution_count": 1,
   "id": "2928b563",
   "metadata": {
    "id": "2928b563",
    "nbgrader": {
     "grade": false,
     "grade_id": "cell-Worker_Count",
     "locked": true,
     "schema_version": 3,
     "solution": false,
     "task": false
    },
    "outputId": "cf88b954-f39a-412a-d87e-660833e735b6"
   },
   "outputs": [
    {
     "name": "stdout",
     "output_type": "stream",
     "text": [
      "NAME          PLATFORM  WORKER_COUNT  PREEMPTIBLE_WORKER_COUNT  STATUS   ZONE           SCHEDULED_DELETE\r\n",
      "cluster-051b  GCE       4                                       RUNNING  us-central1-a\r\n"
     ]
    }
   ],
   "source": [
    "# if the following command generates an error, you probably didn't enable \n",
    "# the cluster security option \"Allow API access to all Google Cloud services\"\n",
    "# under Manage Security → Project Access when setting up the cluster\n",
    "!gcloud dataproc clusters list --region us-central1"
   ]
  },
  {
   "cell_type": "markdown",
   "id": "0ef747b7",
   "metadata": {
    "id": "0ef747b7"
   },
   "source": [
    "# Imports & Setup"
   ]
  },
  {
   "cell_type": "code",
   "execution_count": 2,
   "id": "f5f40290",
   "metadata": {
    "id": "f5f40290",
    "nbgrader": {
     "grade": false,
     "grade_id": "cell-Setup",
     "locked": true,
     "schema_version": 3,
     "solution": false,
     "task": false
    },
    "outputId": "fc0e315d-21e9-411d-d69c-5b97e4e5d629"
   },
   "outputs": [
    {
     "name": "stdout",
     "output_type": "stream",
     "text": [
      "\u001B[33mWARNING: Running pip as the 'root' user can result in broken permissions and conflicting behaviour with the system package manager. It is recommended to use a virtual environment instead: https://pip.pypa.io/warnings/venv\u001B[0m\n",
      "\u001B[33mWARNING: Running pip as the 'root' user can result in broken permissions and conflicting behaviour with the system package manager. It is recommended to use a virtual environment instead: https://pip.pypa.io/warnings/venv\u001B[0m\n"
     ]
    }
   ],
   "source": [
    "!pip install -q google-cloud-storage==1.43.0\n",
    "!pip install -q graphframes"
   ]
  },
  {
   "cell_type": "code",
   "execution_count": 3,
   "id": "33e62384",
   "metadata": {
    "id": "33e62384",
    "nbgrader": {
     "grade": false,
     "grade_id": "cell-Imports",
     "locked": true,
     "schema_version": 3,
     "solution": false,
     "task": false
    },
    "outputId": "a24aa24b-aa75-4823-83ca-1d7deef0f0de"
   },
   "outputs": [
    {
     "name": "stderr",
     "output_type": "stream",
     "text": [
      "[nltk_data] Downloading package stopwords to /root/nltk_data...\n",
      "[nltk_data]   Package stopwords is already up-to-date!\n"
     ]
    },
    {
     "data": {
      "text/plain": [
       "True"
      ]
     },
     "execution_count": 3,
     "metadata": {},
     "output_type": "execute_result"
    }
   ],
   "source": [
    "import pyspark\n",
    "import sys\n",
    "from collections import Counter, OrderedDict, defaultdict\n",
    "import itertools\n",
    "from itertools import islice, count, groupby\n",
    "import pandas as pd\n",
    "import os\n",
    "import re\n",
    "from operator import itemgetter\n",
    "import nltk\n",
    "from nltk.stem.porter import *\n",
    "from nltk.corpus import stopwords\n",
    "from time import time\n",
    "from pathlib import Path\n",
    "import pickle\n",
    "import pandas as pd\n",
    "from google.cloud import storage\n",
    "import struct\n",
    "import hashlib\n",
    "def _hash(s):\n",
    "    return hashlib.blake2b(bytes(s, encoding='utf8'), digest_size=5).hexdigest()\n",
    "\n",
    "nltk.download('stopwords')"
   ]
  },
  {
   "cell_type": "code",
   "execution_count": null,
   "outputs": [],
   "source": [
    "######CHANGE FOLDER NAME!!!!!!!!!!!!!!!!!!!!!!!!#########################################################\n",
    "FOLDER_NAME ="
   ],
   "metadata": {
    "collapsed": false,
    "pycharm": {
     "name": "#%%\n"
    }
   }
  },
  {
   "cell_type": "code",
   "execution_count": 4,
   "id": "f995c092",
   "metadata": {
    "id": "f995c092",
    "nbgrader": {
     "grade": false,
     "grade_id": "cell-jar",
     "locked": true,
     "schema_version": 3,
     "solution": false,
     "task": false
    },
    "outputId": "8f93a7ec-71e0-49c1-fc81-9af385849a90"
   },
   "outputs": [
    {
     "name": "stdout",
     "output_type": "stream",
     "text": [
      "-rw-r--r-- 1 root root 247882 Jan  5 10:41 /usr/lib/spark/jars/graphframes-0.8.2-spark3.1-s_2.12.jar\r\n"
     ]
    }
   ],
   "source": [
    "# if nothing prints here you forgot to include the initialization script when starting the cluster\n",
    "!ls -l /usr/lib/spark/jars/graph*"
   ]
  },
  {
   "cell_type": "code",
   "execution_count": 5,
   "id": "6a9e577c",
   "metadata": {
    "id": "6a9e577c",
    "nbgrader": {
     "grade": false,
     "grade_id": "cell-pyspark-import",
     "locked": true,
     "schema_version": 3,
     "solution": false,
     "task": false
    }
   },
   "outputs": [],
   "source": [
    "from pyspark.sql import *\n",
    "from pyspark.sql.functions import *\n",
    "from pyspark import SparkContext, SparkConf, SparkFiles\n",
    "from pyspark.sql import SQLContext\n",
    "from graphframes import *"
   ]
  },
  {
   "cell_type": "code",
   "execution_count": 6,
   "id": "ca9e67ce",
   "metadata": {
    "id": "ca9e67ce",
    "nbgrader": {
     "grade": false,
     "grade_id": "cell-spark-version",
     "locked": true,
     "schema_version": 3,
     "solution": false,
     "task": false
    },
    "outputId": "07b4e22b-a252-42fb-fe46-d9050e4e7ca8",
    "scrolled": true
   },
   "outputs": [
    {
     "data": {
      "text/html": [
       "\n",
       "            <div>\n",
       "                <p><b>SparkSession - hive</b></p>\n",
       "                \n",
       "        <div>\n",
       "            <p><b>SparkContext</b></p>\n",
       "\n",
       "            <p><a href=\"http://cluster-051b-m.us-central1-a.c.buildingbiginvertedindex.internal:44371\">Spark UI</a></p>\n",
       "\n",
       "            <dl>\n",
       "              <dt>Version</dt>\n",
       "                <dd><code>v3.1.2</code></dd>\n",
       "              <dt>Master</dt>\n",
       "                <dd><code>yarn</code></dd>\n",
       "              <dt>AppName</dt>\n",
       "                <dd><code>PySparkShell</code></dd>\n",
       "            </dl>\n",
       "        </div>\n",
       "        \n",
       "            </div>\n",
       "        "
      ],
      "text/plain": [
       "<pyspark.sql.session.SparkSession at 0x7ff009f7b4f0>"
      ]
     },
     "execution_count": 6,
     "metadata": {},
     "output_type": "execute_result"
    }
   ],
   "source": [
    "spark"
   ]
  },
  {
   "cell_type": "code",
   "execution_count": 7,
   "id": "57b8fc90",
   "metadata": {
    "id": "57b8fc90",
    "nbgrader": {
     "grade": false,
     "grade_id": "cell-bucket_name",
     "locked": false,
     "schema_version": 3,
     "solution": true,
     "task": false
    },
    "outputId": "85194d31-b099-49dc-96e9-02932d891403"
   },
   "outputs": [
    {
     "name": "stdout",
     "output_type": "stream",
     "text": [
      "graphframes.sh\n",
      "postings_small_anchor_text_gcp/0_000.bin\n",
      "postings_small_anchor_text_gcp/0_posting_locs.pickle\n",
      "postings_small_anchor_text_gcp/102_000.bin\n",
      "postings_small_anchor_text_gcp/102_posting_locs.pickle\n",
      "postings_small_anchor_text_gcp/103_000.bin\n",
      "postings_small_anchor_text_gcp/103_posting_locs.pickle\n",
      "postings_small_anchor_text_gcp/105_000.bin\n",
      "postings_small_anchor_text_gcp/105_posting_locs.pickle\n",
      "postings_small_anchor_text_gcp/106_000.bin\n",
      "postings_small_anchor_text_gcp/106_posting_locs.pickle\n",
      "postings_small_anchor_text_gcp/107_000.bin\n",
      "postings_small_anchor_text_gcp/107_posting_locs.pickle\n",
      "postings_small_anchor_text_gcp/108_000.bin\n",
      "postings_small_anchor_text_gcp/108_posting_locs.pickle\n",
      "postings_small_anchor_text_gcp/109_000.bin\n",
      "postings_small_anchor_text_gcp/109_posting_locs.pickle\n",
      "postings_small_anchor_text_gcp/113_000.bin\n",
      "postings_small_anchor_text_gcp/113_posting_locs.pickle\n",
      "postings_small_anchor_text_gcp/119_000.bin\n",
      "postings_small_anchor_text_gcp/119_posting_locs.pickle\n",
      "postings_small_anchor_text_gcp/120_000.bin\n",
      "postings_small_anchor_text_gcp/120_posting_locs.pickle\n",
      "postings_small_anchor_text_gcp/123_000.bin\n",
      "postings_small_anchor_text_gcp/123_posting_locs.pickle\n",
      "postings_small_anchor_text_gcp/12_000.bin\n",
      "postings_small_anchor_text_gcp/12_posting_locs.pickle\n",
      "postings_small_anchor_text_gcp/16_000.bin\n",
      "postings_small_anchor_text_gcp/16_posting_locs.pickle\n",
      "postings_small_anchor_text_gcp/26_000.bin\n",
      "postings_small_anchor_text_gcp/26_posting_locs.pickle\n",
      "postings_small_anchor_text_gcp/27_000.bin\n",
      "postings_small_anchor_text_gcp/27_posting_locs.pickle\n",
      "postings_small_anchor_text_gcp/28_000.bin\n",
      "postings_small_anchor_text_gcp/28_posting_locs.pickle\n",
      "postings_small_anchor_text_gcp/29_000.bin\n",
      "postings_small_anchor_text_gcp/29_posting_locs.pickle\n",
      "postings_small_anchor_text_gcp/32_000.bin\n",
      "postings_small_anchor_text_gcp/32_posting_locs.pickle\n",
      "postings_small_anchor_text_gcp/34_000.bin\n",
      "postings_small_anchor_text_gcp/34_posting_locs.pickle\n",
      "postings_small_anchor_text_gcp/35_000.bin\n",
      "postings_small_anchor_text_gcp/35_posting_locs.pickle\n",
      "postings_small_anchor_text_gcp/36_000.bin\n",
      "postings_small_anchor_text_gcp/36_posting_locs.pickle\n",
      "postings_small_anchor_text_gcp/39_000.bin\n",
      "postings_small_anchor_text_gcp/39_posting_locs.pickle\n",
      "postings_small_anchor_text_gcp/40_000.bin\n",
      "postings_small_anchor_text_gcp/40_posting_locs.pickle\n",
      "postings_small_anchor_text_gcp/41_000.bin\n",
      "postings_small_anchor_text_gcp/41_posting_locs.pickle\n",
      "postings_small_anchor_text_gcp/42_000.bin\n",
      "postings_small_anchor_text_gcp/42_posting_locs.pickle\n",
      "postings_small_anchor_text_gcp/4_000.bin\n",
      "postings_small_anchor_text_gcp/4_posting_locs.pickle\n",
      "postings_small_anchor_text_gcp/50_000.bin\n",
      "postings_small_anchor_text_gcp/50_posting_locs.pickle\n",
      "postings_small_anchor_text_gcp/51_000.bin\n",
      "postings_small_anchor_text_gcp/51_posting_locs.pickle\n",
      "postings_small_anchor_text_gcp/54_000.bin\n",
      "postings_small_anchor_text_gcp/54_posting_locs.pickle\n",
      "postings_small_anchor_text_gcp/55_000.bin\n",
      "postings_small_anchor_text_gcp/55_posting_locs.pickle\n",
      "postings_small_anchor_text_gcp/59_000.bin\n",
      "postings_small_anchor_text_gcp/59_posting_locs.pickle\n",
      "postings_small_anchor_text_gcp/62_000.bin\n",
      "postings_small_anchor_text_gcp/62_posting_locs.pickle\n",
      "postings_small_anchor_text_gcp/64_000.bin\n",
      "postings_small_anchor_text_gcp/64_posting_locs.pickle\n",
      "postings_small_anchor_text_gcp/67_000.bin\n",
      "postings_small_anchor_text_gcp/67_posting_locs.pickle\n",
      "postings_small_anchor_text_gcp/68_000.bin\n",
      "postings_small_anchor_text_gcp/68_posting_locs.pickle\n",
      "postings_small_anchor_text_gcp/71_000.bin\n",
      "postings_small_anchor_text_gcp/71_posting_locs.pickle\n",
      "postings_small_anchor_text_gcp/73_000.bin\n",
      "postings_small_anchor_text_gcp/73_posting_locs.pickle\n",
      "postings_small_anchor_text_gcp/74_000.bin\n",
      "postings_small_anchor_text_gcp/74_posting_locs.pickle\n",
      "postings_small_anchor_text_gcp/79_000.bin\n",
      "postings_small_anchor_text_gcp/79_posting_locs.pickle\n",
      "postings_small_anchor_text_gcp/82_000.bin\n",
      "postings_small_anchor_text_gcp/82_posting_locs.pickle\n",
      "postings_small_anchor_text_gcp/85_000.bin\n",
      "postings_small_anchor_text_gcp/85_posting_locs.pickle\n",
      "postings_small_anchor_text_gcp/87_000.bin\n",
      "postings_small_anchor_text_gcp/87_001.bin\n",
      "postings_small_anchor_text_gcp/87_posting_locs.pickle\n",
      "postings_small_anchor_text_gcp/89_000.bin\n",
      "postings_small_anchor_text_gcp/89_posting_locs.pickle\n",
      "postings_small_anchor_text_gcp/8_000.bin\n",
      "postings_small_anchor_text_gcp/8_posting_locs.pickle\n",
      "postings_small_anchor_text_gcp/97_000.bin\n",
      "postings_small_anchor_text_gcp/97_posting_locs.pickle\n",
      "postings_small_anchor_text_gcp/index.pkl\n",
      "postings_small_body_gcp/0_000.bin\n",
      "postings_small_body_gcp/0_posting_locs.pickle\n",
      "postings_small_body_gcp/102_000.bin\n",
      "postings_small_body_gcp/102_001.bin\n",
      "postings_small_body_gcp/102_posting_locs.pickle\n",
      "postings_small_body_gcp/103_000.bin\n",
      "postings_small_body_gcp/103_posting_locs.pickle\n",
      "postings_small_body_gcp/105_000.bin\n",
      "postings_small_body_gcp/105_posting_locs.pickle\n",
      "postings_small_body_gcp/106_000.bin\n",
      "postings_small_body_gcp/106_posting_locs.pickle\n",
      "postings_small_body_gcp/107_000.bin\n",
      "postings_small_body_gcp/107_posting_locs.pickle\n",
      "postings_small_body_gcp/108_000.bin\n",
      "postings_small_body_gcp/108_001.bin\n",
      "postings_small_body_gcp/108_002.bin\n",
      "postings_small_body_gcp/108_003.bin\n",
      "postings_small_body_gcp/108_posting_locs.pickle\n",
      "postings_small_body_gcp/109_000.bin\n",
      "postings_small_body_gcp/109_001.bin\n",
      "postings_small_body_gcp/109_002.bin\n",
      "postings_small_body_gcp/109_003.bin\n",
      "postings_small_body_gcp/109_posting_locs.pickle\n",
      "postings_small_body_gcp/113_000.bin\n",
      "postings_small_body_gcp/113_001.bin\n",
      "postings_small_body_gcp/113_002.bin\n",
      "postings_small_body_gcp/113_posting_locs.pickle\n",
      "postings_small_body_gcp/119_000.bin\n",
      "postings_small_body_gcp/119_001.bin\n",
      "postings_small_body_gcp/119_002.bin\n",
      "postings_small_body_gcp/119_posting_locs.pickle\n",
      "postings_small_body_gcp/120_000.bin\n",
      "postings_small_body_gcp/120_posting_locs.pickle\n",
      "postings_small_body_gcp/123_000.bin\n",
      "postings_small_body_gcp/123_001.bin\n",
      "postings_small_body_gcp/123_002.bin\n",
      "postings_small_body_gcp/123_003.bin\n",
      "postings_small_body_gcp/123_posting_locs.pickle\n",
      "postings_small_body_gcp/12_000.bin\n",
      "postings_small_body_gcp/12_001.bin\n",
      "postings_small_body_gcp/12_002.bin\n",
      "postings_small_body_gcp/12_003.bin\n",
      "postings_small_body_gcp/12_004.bin\n",
      "postings_small_body_gcp/12_005.bin\n",
      "postings_small_body_gcp/12_006.bin\n",
      "postings_small_body_gcp/12_007.bin\n",
      "postings_small_body_gcp/12_008.bin\n",
      "postings_small_body_gcp/12_009.bin\n",
      "postings_small_body_gcp/12_010.bin\n",
      "postings_small_body_gcp/12_011.bin\n",
      "postings_small_body_gcp/12_posting_locs.pickle\n",
      "postings_small_body_gcp/16_000.bin\n",
      "postings_small_body_gcp/16_posting_locs.pickle\n",
      "postings_small_body_gcp/26_000.bin\n",
      "postings_small_body_gcp/26_001.bin\n",
      "postings_small_body_gcp/26_posting_locs.pickle\n",
      "postings_small_body_gcp/27_000.bin\n",
      "postings_small_body_gcp/27_posting_locs.pickle\n",
      "postings_small_body_gcp/28_000.bin\n",
      "postings_small_body_gcp/28_001.bin\n",
      "postings_small_body_gcp/28_002.bin\n",
      "postings_small_body_gcp/28_003.bin\n",
      "postings_small_body_gcp/28_posting_locs.pickle\n",
      "postings_small_body_gcp/29_000.bin\n",
      "postings_small_body_gcp/29_posting_locs.pickle\n",
      "postings_small_body_gcp/32_000.bin\n",
      "postings_small_body_gcp/32_posting_locs.pickle\n",
      "postings_small_body_gcp/34_000.bin\n",
      "postings_small_body_gcp/34_001.bin\n",
      "postings_small_body_gcp/34_posting_locs.pickle\n",
      "postings_small_body_gcp/35_000.bin\n",
      "postings_small_body_gcp/35_001.bin\n",
      "postings_small_body_gcp/35_002.bin\n",
      "postings_small_body_gcp/35_003.bin\n",
      "postings_small_body_gcp/35_004.bin\n",
      "postings_small_body_gcp/35_005.bin\n",
      "postings_small_body_gcp/35_posting_locs.pickle\n",
      "postings_small_body_gcp/36_000.bin\n",
      "postings_small_body_gcp/36_posting_locs.pickle\n",
      "postings_small_body_gcp/39_000.bin\n",
      "postings_small_body_gcp/39_001.bin\n",
      "postings_small_body_gcp/39_002.bin\n",
      "postings_small_body_gcp/39_posting_locs.pickle\n",
      "postings_small_body_gcp/3_000.bin\n",
      "postings_small_body_gcp/3_posting_locs.pickle\n",
      "postings_small_body_gcp/40_000.bin\n",
      "postings_small_body_gcp/40_001.bin\n",
      "postings_small_body_gcp/40_posting_locs.pickle\n",
      "postings_small_body_gcp/41_000.bin\n",
      "postings_small_body_gcp/41_posting_locs.pickle\n",
      "postings_small_body_gcp/42_000.bin\n",
      "postings_small_body_gcp/42_001.bin\n",
      "postings_small_body_gcp/42_002.bin\n",
      "postings_small_body_gcp/42_posting_locs.pickle\n",
      "postings_small_body_gcp/4_000.bin\n",
      "postings_small_body_gcp/4_001.bin\n",
      "postings_small_body_gcp/4_posting_locs.pickle\n",
      "postings_small_body_gcp/50_000.bin\n",
      "postings_small_body_gcp/50_posting_locs.pickle\n",
      "postings_small_body_gcp/51_000.bin\n",
      "postings_small_body_gcp/51_001.bin\n",
      "postings_small_body_gcp/51_002.bin\n",
      "postings_small_body_gcp/51_003.bin\n",
      "postings_small_body_gcp/51_004.bin\n",
      "postings_small_body_gcp/51_005.bin\n",
      "postings_small_body_gcp/51_006.bin\n",
      "postings_small_body_gcp/51_posting_locs.pickle\n",
      "postings_small_body_gcp/54_000.bin\n",
      "postings_small_body_gcp/54_posting_locs.pickle\n",
      "postings_small_body_gcp/55_000.bin\n",
      "postings_small_body_gcp/55_001.bin\n",
      "postings_small_body_gcp/55_002.bin\n",
      "postings_small_body_gcp/55_003.bin\n",
      "postings_small_body_gcp/55_posting_locs.pickle\n",
      "postings_small_body_gcp/59_000.bin\n",
      "postings_small_body_gcp/59_001.bin\n",
      "postings_small_body_gcp/59_posting_locs.pickle\n",
      "postings_small_body_gcp/62_000.bin\n",
      "postings_small_body_gcp/62_001.bin\n",
      "postings_small_body_gcp/62_002.bin\n",
      "postings_small_body_gcp/62_003.bin\n",
      "postings_small_body_gcp/62_004.bin\n",
      "postings_small_body_gcp/62_005.bin\n",
      "postings_small_body_gcp/62_006.bin\n",
      "postings_small_body_gcp/62_007.bin\n",
      "postings_small_body_gcp/62_008.bin\n",
      "postings_small_body_gcp/62_009.bin\n",
      "postings_small_body_gcp/62_posting_locs.pickle\n",
      "postings_small_body_gcp/64_000.bin\n",
      "postings_small_body_gcp/64_posting_locs.pickle\n",
      "postings_small_body_gcp/67_000.bin\n",
      "postings_small_body_gcp/67_posting_locs.pickle\n",
      "postings_small_body_gcp/68_000.bin\n",
      "postings_small_body_gcp/68_posting_locs.pickle\n",
      "postings_small_body_gcp/71_000.bin\n",
      "postings_small_body_gcp/71_posting_locs.pickle\n",
      "postings_small_body_gcp/73_000.bin\n",
      "postings_small_body_gcp/73_001.bin\n",
      "postings_small_body_gcp/73_posting_locs.pickle\n",
      "postings_small_body_gcp/74_000.bin\n",
      "postings_small_body_gcp/74_001.bin\n",
      "postings_small_body_gcp/74_002.bin\n",
      "postings_small_body_gcp/74_posting_locs.pickle\n",
      "postings_small_body_gcp/79_000.bin\n",
      "postings_small_body_gcp/79_posting_locs.pickle\n",
      "postings_small_body_gcp/82_000.bin\n",
      "postings_small_body_gcp/82_001.bin\n",
      "postings_small_body_gcp/82_posting_locs.pickle\n",
      "postings_small_body_gcp/85_000.bin\n",
      "postings_small_body_gcp/85_001.bin\n",
      "postings_small_body_gcp/85_posting_locs.pickle\n",
      "postings_small_body_gcp/87_000.bin\n",
      "postings_small_body_gcp/87_001.bin\n",
      "postings_small_body_gcp/87_002.bin\n",
      "postings_small_body_gcp/87_003.bin\n",
      "postings_small_body_gcp/87_004.bin\n",
      "postings_small_body_gcp/87_005.bin\n",
      "postings_small_body_gcp/87_posting_locs.pickle\n",
      "postings_small_body_gcp/89_000.bin\n",
      "postings_small_body_gcp/89_posting_locs.pickle\n",
      "postings_small_body_gcp/8_000.bin\n",
      "postings_small_body_gcp/8_001.bin\n",
      "postings_small_body_gcp/8_002.bin\n",
      "postings_small_body_gcp/8_003.bin\n",
      "postings_small_body_gcp/8_004.bin\n",
      "postings_small_body_gcp/8_posting_locs.pickle\n",
      "postings_small_body_gcp/97_000.bin\n",
      "postings_small_body_gcp/97_posting_locs.pickle\n",
      "postings_small_body_gcp/index.pkl\n",
      "postings_small_title_gcp/0_000.bin\n",
      "postings_small_title_gcp/0_posting_locs.pickle\n",
      "postings_small_title_gcp/102_000.bin\n",
      "postings_small_title_gcp/102_posting_locs.pickle\n",
      "postings_small_title_gcp/103_000.bin\n",
      "postings_small_title_gcp/103_posting_locs.pickle\n",
      "postings_small_title_gcp/105_000.bin\n",
      "postings_small_title_gcp/105_posting_locs.pickle\n",
      "postings_small_title_gcp/106_000.bin\n",
      "postings_small_title_gcp/106_posting_locs.pickle\n",
      "postings_small_title_gcp/107_000.bin\n",
      "postings_small_title_gcp/107_posting_locs.pickle\n",
      "postings_small_title_gcp/108_000.bin\n",
      "postings_small_title_gcp/108_posting_locs.pickle\n",
      "postings_small_title_gcp/109_000.bin\n",
      "postings_small_title_gcp/109_posting_locs.pickle\n",
      "postings_small_title_gcp/113_000.bin\n",
      "postings_small_title_gcp/113_posting_locs.pickle\n",
      "postings_small_title_gcp/119_000.bin\n",
      "postings_small_title_gcp/119_posting_locs.pickle\n",
      "postings_small_title_gcp/120_000.bin\n",
      "postings_small_title_gcp/120_posting_locs.pickle\n",
      "postings_small_title_gcp/123_000.bin\n",
      "postings_small_title_gcp/123_posting_locs.pickle\n",
      "postings_small_title_gcp/12_000.bin\n",
      "postings_small_title_gcp/12_posting_locs.pickle\n",
      "postings_small_title_gcp/16_000.bin\n",
      "postings_small_title_gcp/16_posting_locs.pickle\n",
      "postings_small_title_gcp/26_000.bin\n",
      "postings_small_title_gcp/26_posting_locs.pickle\n",
      "postings_small_title_gcp/27_000.bin\n",
      "postings_small_title_gcp/27_posting_locs.pickle\n",
      "postings_small_title_gcp/28_000.bin\n",
      "postings_small_title_gcp/28_posting_locs.pickle\n",
      "postings_small_title_gcp/29_000.bin\n",
      "postings_small_title_gcp/29_posting_locs.pickle\n",
      "postings_small_title_gcp/32_000.bin\n",
      "postings_small_title_gcp/32_posting_locs.pickle\n",
      "postings_small_title_gcp/34_000.bin\n",
      "postings_small_title_gcp/34_posting_locs.pickle\n",
      "postings_small_title_gcp/35_000.bin\n",
      "postings_small_title_gcp/35_posting_locs.pickle\n",
      "postings_small_title_gcp/36_000.bin\n",
      "postings_small_title_gcp/36_posting_locs.pickle\n",
      "postings_small_title_gcp/39_000.bin\n",
      "postings_small_title_gcp/39_posting_locs.pickle\n",
      "postings_small_title_gcp/40_000.bin\n",
      "postings_small_title_gcp/40_posting_locs.pickle\n",
      "postings_small_title_gcp/41_000.bin\n",
      "postings_small_title_gcp/41_posting_locs.pickle\n",
      "postings_small_title_gcp/42_000.bin\n",
      "postings_small_title_gcp/42_posting_locs.pickle\n",
      "postings_small_title_gcp/4_000.bin\n",
      "postings_small_title_gcp/4_posting_locs.pickle\n",
      "postings_small_title_gcp/50_000.bin\n",
      "postings_small_title_gcp/50_posting_locs.pickle\n",
      "postings_small_title_gcp/51_000.bin\n",
      "postings_small_title_gcp/51_posting_locs.pickle\n",
      "postings_small_title_gcp/54_000.bin\n",
      "postings_small_title_gcp/54_posting_locs.pickle\n",
      "postings_small_title_gcp/55_000.bin\n",
      "postings_small_title_gcp/55_posting_locs.pickle\n",
      "postings_small_title_gcp/59_000.bin\n",
      "postings_small_title_gcp/59_posting_locs.pickle\n",
      "postings_small_title_gcp/62_000.bin\n",
      "postings_small_title_gcp/62_posting_locs.pickle\n",
      "postings_small_title_gcp/64_000.bin\n",
      "postings_small_title_gcp/64_posting_locs.pickle\n",
      "postings_small_title_gcp/68_000.bin\n",
      "postings_small_title_gcp/68_posting_locs.pickle\n",
      "postings_small_title_gcp/73_000.bin\n",
      "postings_small_title_gcp/73_posting_locs.pickle\n",
      "postings_small_title_gcp/74_000.bin\n",
      "postings_small_title_gcp/74_posting_locs.pickle\n",
      "postings_small_title_gcp/79_000.bin\n",
      "postings_small_title_gcp/79_posting_locs.pickle\n",
      "postings_small_title_gcp/82_000.bin\n",
      "postings_small_title_gcp/82_posting_locs.pickle\n",
      "postings_small_title_gcp/85_000.bin\n",
      "postings_small_title_gcp/85_posting_locs.pickle\n",
      "postings_small_title_gcp/87_000.bin\n",
      "postings_small_title_gcp/87_posting_locs.pickle\n",
      "postings_small_title_gcp/89_000.bin\n",
      "postings_small_title_gcp/89_posting_locs.pickle\n",
      "postings_small_title_gcp/8_000.bin\n",
      "postings_small_title_gcp/8_posting_locs.pickle\n",
      "postings_small_title_gcp/97_000.bin\n",
      "postings_small_title_gcp/97_posting_locs.pickle\n",
      "postings_small_title_gcp/index.pkl\n"
     ]
    }
   ],
   "source": [
    "# Put your bucket name below and make sure you can access it without an error\n",
    "bucket_name = 'idx316179928316366087idx' \n",
    "client = storage.Client()\n",
    "blobs = client.list_blobs(bucket_name)\n",
    "for b in blobs:\n",
    "    print(b.name)"
   ]
  },
  {
   "cell_type": "markdown",
   "id": "8b3843ca",
   "metadata": {
    "id": "8b3843ca"
   },
   "source": [
    "***GCP setup is complete!*** If you got here without any errors you've earned 10 out of the 35 points of this part."
   ]
  },
  {
   "cell_type": "markdown",
   "id": "f7f80686",
   "metadata": {
    "id": "f7f80686"
   },
   "source": [
    "# Building an inverted index"
   ]
  },
  {
   "cell_type": "markdown",
   "id": "e5ae65fc",
   "metadata": {
    "id": "e5ae65fc"
   },
   "source": [
    "Here, we read the entire corpus to an rdd, directly from Google Storage Bucket and use your code from Colab to construct an inverted index."
   ]
  },
  {
   "cell_type": "code",
   "execution_count": 8,
   "id": "e8f6467b",
   "metadata": {
    "id": "e8f6467b",
    "outputId": "aa4eac05-d1d9-4415-a033-32ea28b09b8c",
    "scrolled": false
   },
   "outputs": [],
   "source": [
    "########################only for title###################################\n",
    "# full_path = \"gs://wikidata_preprocessed/*\"\n",
    "# parquetFile = spark.read.parquet(full_path)\n",
    "# doc_text_pairs = parquetFile.select(\"title\", \"id\").rdd"
   ]
  },
  {
   "cell_type": "code",
   "execution_count": null,
   "outputs": [],
   "source": [
    "###create id - title dictionary ---------- only run once\n",
    "doc_text_pairs = parquetFile.select(\"id\",\"title\").rdd\n",
    "id_2_title_dict = doc_text_pairs.collectAsMap()\n",
    "with open(Path(\".\") / f'dict_of_id_title.pkl', 'wb') as f:\n",
    "    pickle.dump(id_2_title_dict, f)\n",
    "index_src = \"dict_of_id_title.pkl\"\n",
    "index_dst = f'gs://{bucket_name}/{index_src}'\n",
    "!gsutil cp $index_src $index_dst"
   ],
   "metadata": {
    "collapsed": false,
    "pycharm": {
     "name": "#%%\n"
    }
   }
  },
  {
   "cell_type": "code",
   "execution_count": 9,
   "id": "514b1c56",
   "metadata": {},
   "outputs": [
    {
     "name": "stderr",
     "output_type": "stream",
     "text": [
      "                                                                                \r"
     ]
    }
   ],
   "source": [
    "#######################################only for anchor text###################################\n",
    "def id_to_anchor_text(id_and_text):\n",
    "  return [(id,text) for id, text in id_and_text]\n",
    "\n",
    "def reduce_anchor_text(list_of_text):\n",
    "  return \" \".join(list_of_text)\n",
    "\n",
    "####################COMMENT OUT WHEN CALCULATING ANCHOR TEXT INDEX ###########################################\n",
    "pages_links = spark.read.parquet(\"gs://wikidata_preprocessed/*\").select(\"id\", \"anchor_text\").rdd\n",
    "x = pages_links.flatMap(lambda x : id_to_anchor_text(x[1]))\n",
    "doc_text_pairs = x.groupByKey().mapValues(reduce_anchor_text).map(lambda x:(x[1],x[0]))\n"
   ]
  },
  {
   "cell_type": "markdown",
   "id": "e4ad9ad6",
   "metadata": {
    "id": "e4ad9ad6"
   },
   "source": [
    "We will count the number of pages to make sure we are looking at the entire corpus. The number of pages should be more than 6M"
   ]
  },
  {
   "cell_type": "code",
   "execution_count": null,
   "id": "7cf64ca7",
   "metadata": {
    "id": "7cf64ca7",
    "outputId": "656ec72b-7e38-4a3f-b43b-ef0c2c2dc261"
   },
   "outputs": [
    {
     "name": "stderr",
     "output_type": "stream",
     "text": [
      "                                                                                \r"
     ]
    },
    {
     "data": {
      "text/plain": [
       "6348910"
      ]
     },
     "execution_count": 9,
     "metadata": {},
     "output_type": "execute_result"
    }
   ],
   "source": [
    "# Count number of wiki pages\n",
    "parquetFile.count()"
   ]
  },
  {
   "cell_type": "markdown",
   "id": "e57354a8",
   "metadata": {
    "id": "e57354a8"
   },
   "source": [
    "Let's import the inverted index module. Note that you need to use the staff-provided version called `inverted_index_gcp.py`, which contains helper functions to writing and reading the posting files similar to the Colab version, but with writing done to a Google Cloud Storage bucket."
   ]
  },
  {
   "cell_type": "code",
   "execution_count": 10,
   "id": "b60a23b2",
   "metadata": {
    "id": "b60a23b2",
    "outputId": "327fe81b-80f4-4b3a-8894-e74720d92e35"
   },
   "outputs": [
    {
     "name": "stdout",
     "output_type": "stream",
     "text": [
      "inverted_index_gcp.py\r\n"
     ]
    }
   ],
   "source": [
    "# if nothing prints here you forgot to upload the file inverted_index_gcp.py to the home dir\n",
    "%cd -q /home/dataproc\n",
    "!ls inverted_index_gcp.py"
   ]
  },
  {
   "cell_type": "code",
   "execution_count": 11,
   "id": "f22786fa",
   "metadata": {
    "id": "f22786fa",
    "scrolled": true
   },
   "outputs": [],
   "source": [
    "# adding our python module to the cluster\n",
    "sc.addFile(\"/home/dataproc/inverted_index_gcp.py\")\n",
    "sys.path.insert(0,SparkFiles.getRootDirectory())"
   ]
  },
  {
   "cell_type": "code",
   "execution_count": 12,
   "id": "6fa813b4",
   "metadata": {
    "id": "6fa813b4"
   },
   "outputs": [],
   "source": [
    "from inverted_index_gcp import InvertedIndex"
   ]
  },
  {
   "cell_type": "markdown",
   "id": "e433e681",
   "metadata": {
    "id": "e433e681"
   },
   "source": [
    "**YOUR TASK (10 POINTS)**: Use your implementation of `word_count`, `reduce_word_counts`, `calculate_df`, and `partition_postings_and_write` functions from Colab to build an inverted index for all of English Wikipedia in under 2 hours.\n",
    "\n",
    "A few notes: \n",
    "1. The number of corpus stopwords below is a bit bigger than the colab version since we are working on the whole corpus and not just on one file.\n",
    "2. You need to slightly modify your implementation of  `partition_postings_and_write` because the signature of `InvertedIndex.write_a_posting_list` has changed and now includes an additional argument called `bucket_name` for the target bucket. See the module for more details.\n",
    "3. You are not allowed to change any of the code not coming from Colab. "
   ]
  },
  {
   "cell_type": "code",
   "execution_count": 13,
   "id": "a936538d",
   "metadata": {
    "id": "a936538d",
    "nbgrader": {
     "grade": false,
     "grade_id": "cell-token2bucket",
     "locked": false,
     "schema_version": 3,
     "solution": true,
     "task": false
    }
   },
   "outputs": [],
   "source": [
    "\n",
    "english_stopwords = frozenset(stopwords.words('english'))\n",
    "corpus_stopwords = [\"category\", \"references\", \"also\", \"external\", \"links\", \n",
    "                    \"may\", \"first\", \"see\", \"history\", \"people\", \"one\", \"two\", \n",
    "                    \"part\", \"thumb\", \"including\", \"second\", \"following\", \n",
    "                    \"many\", \"however\", \"would\", \"became\"]\n",
    "\n",
    "all_stopwords = english_stopwords.union(corpus_stopwords)\n",
    "RE_WORD = re.compile(r\"\"\"[\\#\\@\\w](['\\-]?\\w){2,24}\"\"\", re.UNICODE)\n",
    "\n",
    "NUM_BUCKETS = 124\n",
    "def token2bucket_id(token):\n",
    "  return int(_hash(token),16) % NUM_BUCKETS\n",
    "\n",
    "# PLACE YOUR CODE HERE\n",
    "def word_count(text, id):\n",
    "  ''' Count the frequency of each word in `text` (tf) that is not included in \n",
    "  `all_stopwords` and return entries that will go into our posting lists. \n",
    "  Parameters:\n",
    "  -----------\n",
    "    text: str\n",
    "      Text of one document\n",
    "    id: int\n",
    "      Document id\n",
    "  Returns:\n",
    "  --------\n",
    "    List of tuples\n",
    "      A list of (token, (doc_id, tf)) pairs \n",
    "      for example: [(\"Anarchism\", (12, 5)), ...]\n",
    "  '''\n",
    "  tokens = [token.group() for token in RE_WORD.finditer(text.lower())]\n",
    "  #ADDED stopwords removal\n",
    "  tokens = [token for token in tokens if token not in all_stopwords]\n",
    "  # YOUR CODE HERE\n",
    "  unique_tokens = set(tokens)\n",
    "  if len(unique_tokens)==0:\n",
    "      return []\n",
    "  #### ADDED doc_len and max_tf to posting lists\n",
    "  #return [(word,(id,tf,max_tf, doc_len)) for word,tf in count.items() if word not in all_stopwords]\n",
    "  return [(word,id) for word in unique_tokens]\n",
    "\n",
    "\n",
    "\n",
    "def calculate_df(postings):\n",
    "  ''' Takes a posting list RDD and calculate the df for each token.\n",
    "  Parameters:\n",
    "  -----------\n",
    "    postings: RDD\n",
    "      An RDD where each element is a (token, posting_list) pair.\n",
    "  Returns:\n",
    "  --------\n",
    "    RDD\n",
    "      An RDD where each element is a (token, df) pair.\n",
    "  '''\n",
    "  # YOUR CODE HERE\n",
    "  return postings.mapValues(lambda x: len(x))\n",
    "\n",
    "\n",
    "def word_posting2bucket_and_wpl(word, posting_list):\n",
    "  return token2bucket_id(word),(word,posting_list)\n",
    "\n",
    "def write_bucket_to_disk(bucket_id, list_of_words_postings_tuples):\n",
    "  word2posting_locs = InvertedIndex().write_a_posting_list((bucket_id, list_of_words_postings_tuples),bucket_name, FOLDER_NAME)\n",
    "  return word2posting_locs\n",
    "\n",
    "def partition_postings_and_write(postings):\n",
    "  ''' A function that partitions the posting lists into buckets, writes out \n",
    "  all posting lists in a bucket to disk, and returns the posting locations for \n",
    "  each bucket. Partitioning should be done through the use of `token2bucket` \n",
    "  above. Writing to disk should use the function  `write_a_posting_list`, a \n",
    "  static method implemented in inverted_index_colab.py under the InvertedIndex \n",
    "  class. \n",
    "  Parameters:\n",
    "  -----------\n",
    "    postings: RDD\n",
    "      An RDD where each item is a (w, posting_list) pair.\n",
    "  Returns:\n",
    "  --------\n",
    "    RDD\n",
    "      An RDD where each item is a posting locations dictionary for a bucket. The\n",
    "      posting locations maintain a list for each word of file locations and \n",
    "      offsets its posting list was written to. See `write_a_posting_list` for \n",
    "      more details.\n",
    "  '''\n",
    "  # YOUR CODE HERE\n",
    "  bucket2posting_lists=postings.map(lambda x: word_posting2bucket_and_wpl(x[0],x[1])).groupByKey()#.mapValues().reduce_word_counts)\n",
    "  x= bucket2posting_lists.map(lambda x: write_bucket_to_disk(x[0],x[1]))\n",
    "  return x"
   ]
  },
  {
   "cell_type": "code",
   "execution_count": 15,
   "id": "2fe55ae1",
   "metadata": {
    "id": "2fe55ae1",
    "nbgrader": {
     "grade": false,
     "grade_id": "cell-index_construction",
     "locked": false,
     "schema_version": 3,
     "solution": true,
     "task": false
    },
    "outputId": "381ffb23-7c4f-43fc-dde5-4be0adb7b65d"
   },
   "outputs": [
    {
     "name": "stderr",
     "output_type": "stream",
     "text": [
      "                                                                                \r"
     ]
    }
   ],
   "source": [
    "# word counts map\n",
    "word_counts = doc_text_pairs.flatMap(lambda x: word_count(x[0], x[1]))\n",
    "postings = word_counts.groupByKey()\n",
    "# filtering postings and calculate df\n",
    "####################################maybe don't need to reduce words##########################################\n",
    "postings_filtered = postings.filter(lambda x: len(x[1])>50)\n",
    "w2df = calculate_df(postings_filtered)\n",
    "w2df_dict = w2df.collectAsMap()\n",
    "# partition posting lists and write out\n",
    "_ = partition_postings_and_write(postings_filtered).collect()\n",
    "\n"
   ]
  },
  {
   "cell_type": "code",
   "execution_count": 16,
   "id": "6cea668c",
   "metadata": {
    "id": "6cea668c",
    "nbgrader": {
     "grade": true,
     "grade_id": "collect-posting",
     "locked": true,
     "points": 0,
     "schema_version": 3,
     "solution": false,
     "task": false
    }
   },
   "outputs": [],
   "source": [
    "# collect all posting lists locations into one super-set\n",
    "super_posting_locs = defaultdict(list)\n",
    "for blob in client.list_blobs(bucket_name, prefix=FOLDER_NAME):\n",
    "  if not blob.name.endswith(\"pickle\"):\n",
    "    continue\n",
    "  with blob.open(\"rb\") as f:\n",
    "    posting_locs = pickle.load(f)\n",
    "    for k, v in posting_locs.items():\n",
    "      super_posting_locs[k].extend(v)"
   ]
  },
  {
   "cell_type": "markdown",
   "id": "f110c05d",
   "metadata": {
    "id": "f110c05d"
   },
   "source": [
    "Putting it all together"
   ]
  },
  {
   "cell_type": "code",
   "execution_count": 17,
   "id": "24a19a49",
   "metadata": {
    "id": "24a19a49",
    "outputId": "b78e423b-6533-4f3c-bb85-41913344dbef"
   },
   "outputs": [
    {
     "name": "stdout",
     "output_type": "stream",
     "text": [
      "Copying file://index.pkl [Content-Type=application/octet-stream]...\n",
      "/ [1 files][  2.2 KiB/  2.2 KiB]                                                \n",
      "Operation completed over 1 objects/2.2 KiB.                                      \n"
     ]
    }
   ],
   "source": [
    "# Create inverted index instance\n",
    "inverted = InvertedIndex()\n",
    "# Adding the posting locations dictionary to the inverted index\n",
    "inverted.posting_locs = super_posting_locs\n",
    "# Add the token - df dictionary to the inverted index\n",
    "inverted.df = w2df_dict\n",
    "inverted.AVGDL = 79.8183118653278\n",
    "# write the global stats out\n",
    "inverted.write_index('.', 'index')\n",
    "# upload to gs\n",
    "index_src = \"index.pkl\"\n",
    "index_dst = f'gs://{bucket_name}/{FOLDER_NAME}/{index_src}'\n",
    "!gsutil cp $index_src $index_dst"
   ]
  },
  {
   "cell_type": "code",
   "execution_count": null,
   "outputs": [],
   "source": [
    "!gsutil ls -lh $index_dst"
   ],
   "metadata": {
    "collapsed": false,
    "pycharm": {
     "name": "#%%\n"
    }
   }
  }
 ],
 "metadata": {
  "celltoolbar": "Create Assignment",
  "colab": {
   "collapsed_sections": [],
   "name": "316366087_gcp.ipynb",
   "provenance": [],
   "toc_visible": true
  },
  "kernelspec": {
   "display_name": "PySpark",
   "language": "python",
   "name": "pyspark"
  },
  "language_info": {
   "codemirror_mode": {
    "name": "ipython",
    "version": 3
   },
   "file_extension": ".py",
   "mimetype": "text/x-python",
   "name": "python",
   "nbconvert_exporter": "python",
   "pygments_lexer": "ipython3",
   "version": "3.8.12"
  }
 },
 "nbformat": 4,
 "nbformat_minor": 5
}